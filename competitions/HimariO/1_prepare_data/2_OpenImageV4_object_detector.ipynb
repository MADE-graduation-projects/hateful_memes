{
 "cells": [
  {
   "cell_type": "code",
   "execution_count": null,
   "metadata": {},
   "outputs": [],
   "source": [
    "#conda install -c conda-forge cudatoolkit=11.2 cudnn=8.1.0\n",
    "#!pip install tensorflow-gpu\n",
    "#!pip install tensorflow_hub\n",
    "#!pip install tqdm\n",
    "\n",
    "#export LD_LIBRARY_PATH=$LD_LIBRARY_PATH:$CONDA_PREFIX/lib/"
   ]
  },
  {
   "cell_type": "code",
   "execution_count": null,
   "metadata": {},
   "outputs": [],
   "source": [
    "#source data_utils/gen_bbox.py"
   ]
  },
  {
   "cell_type": "code",
   "execution_count": 3,
   "metadata": {},
   "outputs": [],
   "source": [
    "import os\n",
    "import glob\n",
    "import json\n",
    "import queue\n",
    "os.environ['TF_DETERMINISTIC_OPS'] = '1'\n",
    "os.environ['TF_CUDNN_DETERMINISTIC'] = '1'\n",
    "\n",
    "import numpy as np\n",
    "import tensorflow as tf\n",
    "import tensorflow_hub as hub\n",
    "from PIL import Image\n",
    "from tqdm.notebook import tqdm"
   ]
  },
  {
   "cell_type": "code",
   "execution_count": 4,
   "metadata": {},
   "outputs": [
    {
     "name": "stdout",
     "output_type": "stream",
     "text": [
      "Num GPUs Available:  1\n"
     ]
    }
   ],
   "source": [
    "print(\"Num GPUs Available: \", len(tf.config.experimental.list_physical_devices('GPU')))"
   ]
  },
  {
   "cell_type": "code",
   "execution_count": null,
   "metadata": {},
   "outputs": [],
   "source": []
  },
  {
   "cell_type": "code",
   "execution_count": 10,
   "metadata": {},
   "outputs": [],
   "source": [
    "def hateful_meme(img_dir, output_path, debug=False):\n",
    "    with tf.device('/device:GPU:0'):\n",
    "        module_handle = \"https://tfhub.dev/google/faster_rcnn/openimages_v4/inception_resnet_v2/1\" #@param [\"https://tfhub.dev/google/openimages_v4/ssd/mobilenet_v2/1\", \"https://tfhub.dev/google/faster_rcnn/openimages_v4/inception_resnet_v2/1\"]\n",
    "        detector = hub.load(module_handle).signatures['default']\n",
    "        det_annos = []\n",
    "        \n",
    "        img_pattern = os.path.join(img_dir, '*.png')\n",
    "        img_files = glob.glob(img_pattern)\n",
    "        img_files = sorted(img_files)\n",
    "\n",
    "        for img_file in tqdm(img_files):\n",
    "            img_tensor = tf.io.read_file(img_file)\n",
    "            img_tensor = tf.image.decode_image(img_tensor, channels=3)\n",
    "            tensor = tf.image.convert_image_dtype(img_tensor, tf.float32)[tf.newaxis, ...]\n",
    "            \n",
    "            result = detector(tensor)\n",
    "            result = {key:value.numpy() for key,value in result.items()}\n",
    "            \n",
    "            boxes_score = zip(\n",
    "                            result[\"detection_boxes\"],\n",
    "                            result[\"detection_scores\"],\n",
    "                            result[\"detection_class_entities\"],\n",
    "                            result[\"detection_class_labels\"])\n",
    "            boxes_score = [\n",
    "                {\n",
    "                    'ymin': float(b[0]),\n",
    "                    'xmin': float(b[1]),\n",
    "                    'ymax': float(b[2]),\n",
    "                    'xmax': float(b[3]),\n",
    "                    'score': float(s),\n",
    "                    'class_name': c.decode(\"ascii\"),\n",
    "                    'class_id': int(ci),\n",
    "                }\n",
    "                for b, s, c, ci in list(boxes_score) if s > 0.2]\n",
    "            \n",
    "            img_name = os.path.basename(img_file)\n",
    "            det_anno = {\n",
    "                'img_name': img_name,\n",
    "                'boxes_and_score': boxes_score\n",
    "            }\n",
    "            det_annos.append(det_anno)\n",
    "            \n",
    "        with open(output_path, mode='w') as output:\n",
    "            json.dump(det_annos, output)"
   ]
  },
  {
   "cell_type": "code",
   "execution_count": 6,
   "metadata": {},
   "outputs": [],
   "source": [
    "image_name = '01235.png'\n",
    "data_dir = '/media/alex/Storage/coding/HimariO/HatefulMemesChallenge/data/hateful_memes/'"
   ]
  },
  {
   "cell_type": "code",
   "execution_count": 11,
   "metadata": {},
   "outputs": [
    {
     "name": "stdout",
     "output_type": "stream",
     "text": [
      "INFO:tensorflow:Saver not created because there are no variables in the graph to restore\n"
     ]
    },
    {
     "name": "stderr",
     "output_type": "stream",
     "text": [
      "INFO:tensorflow:Saver not created because there are no variables in the graph to restore\n"
     ]
    },
    {
     "data": {
      "application/vnd.jupyter.widget-view+json": {
       "model_id": "b5715eb483cc4baa91ecac34a605e7a7",
       "version_major": 2,
       "version_minor": 0
      },
      "text/plain": [
       "HBox(children=(HTML(value=''), FloatProgress(value=0.0, max=10000.0), HTML(value='')))"
      ]
     },
     "metadata": {},
     "output_type": "display_data"
    },
    {
     "name": "stdout",
     "output_type": "stream",
     "text": [
      "\n"
     ]
    }
   ],
   "source": [
    "hateful_meme(os.path.join(data_dir, 'img_clean'),\n",
    "             os.path.join(data_dir, 'box_annos.json')\n",
    "            )"
   ]
  },
  {
   "cell_type": "code",
   "execution_count": null,
   "metadata": {},
   "outputs": [],
   "source": []
  },
  {
   "cell_type": "code",
   "execution_count": null,
   "metadata": {},
   "outputs": [],
   "source": []
  },
  {
   "cell_type": "code",
   "execution_count": 12,
   "metadata": {},
   "outputs": [
    {
     "name": "stdout",
     "output_type": "stream",
     "text": [
      "INFO:tensorflow:Saver not created because there are no variables in the graph to restore\n"
     ]
    },
    {
     "name": "stderr",
     "output_type": "stream",
     "text": [
      "INFO:tensorflow:Saver not created because there are no variables in the graph to restore\n"
     ]
    },
    {
     "data": {
      "text/plain": [
       "[{'ymin': 0.26804885268211365,\n",
       "  'xmin': 0.3950812816619873,\n",
       "  'ymax': 0.6153359413146973,\n",
       "  'xmax': 0.5982983112335205,\n",
       "  'score': 0.9718632102012634,\n",
       "  'class_name': 'Human face',\n",
       "  'class_id': 502},\n",
       " {'ymin': 0.14357806742191315,\n",
       "  'xmin': 0.04331391677260399,\n",
       "  'ymax': 0.9951313734054565,\n",
       "  'xmax': 0.9685384035110474,\n",
       "  'score': 0.9124561548233032,\n",
       "  'class_name': 'Man',\n",
       "  'class_id': 308},\n",
       " {'ymin': 0.4765247106552124,\n",
       "  'xmin': 0.07855606824159622,\n",
       "  'ymax': 0.980301558971405,\n",
       "  'xmax': 0.9747498631477356,\n",
       "  'score': 0.6230961084365845,\n",
       "  'class_name': 'Clothing',\n",
       "  'class_id': 433},\n",
       " {'ymin': 0.1488388329744339,\n",
       "  'xmin': 0.36896005272865295,\n",
       "  'ymax': 0.3470507562160492,\n",
       "  'xmax': 0.6266028881072998,\n",
       "  'score': 0.32622191309928894,\n",
       "  'class_name': 'Hat',\n",
       "  'class_id': 161},\n",
       " {'ymin': 0.46257153153419495,\n",
       "  'xmin': 0.02542208880186081,\n",
       "  'ymax': 0.9678794741630554,\n",
       "  'xmax': 0.3584445118904114,\n",
       "  'score': 0.23643866181373596,\n",
       "  'class_name': 'Human arm',\n",
       "  'class_id': 503}]"
      ]
     },
     "execution_count": 12,
     "metadata": {},
     "output_type": "execute_result"
    }
   ],
   "source": [
    "#Пример работы кода\n",
    "module_handle = \"https://tfhub.dev/google/faster_rcnn/openimages_v4/inception_resnet_v2/1\" #@param [\"https://tfhub.dev/google/openimages_v4/ssd/mobilenet_v2/1\", \"https://tfhub.dev/google/faster_rcnn/openimages_v4/inception_resnet_v2/1\"]\n",
    "detector = hub.load(module_handle).signatures['default']\n",
    "\n",
    "\n",
    "img_tensor = tf.io.read_file(os.path.join(data_dir, 'img', image_name))\n",
    "img_tensor = tf.image.decode_image(img_tensor, channels=3)\n",
    "converted_img = tf.image.convert_image_dtype(img_tensor, tf.float32)[tf.newaxis, ...]\n",
    "\n",
    "result = detector(converted_img)\n",
    "result = {key:value.numpy() for key,value in result.items()}\n",
    "\n",
    "\n",
    "boxes_score = zip(\n",
    "    result[\"detection_boxes\"],\n",
    "    result[\"detection_scores\"],\n",
    "    result[\"detection_class_entities\"],\n",
    "    result[\"detection_class_labels\"])\n",
    "\n",
    "boxes_score = [\n",
    "    {\n",
    "        'ymin': float(b[0]),\n",
    "        'xmin': float(b[1]),\n",
    "        'ymax': float(b[2]),\n",
    "        'xmax': float(b[3]),\n",
    "        'score': float(s),\n",
    "        'class_name': c.decode(\"ascii\"),\n",
    "        'class_id': int(ci),\n",
    "    }\n",
    "    for b, s, c, ci in list(boxes_score) if s > 0.2]\n",
    "        \n",
    "boxes_score"
   ]
  },
  {
   "cell_type": "code",
   "execution_count": null,
   "metadata": {},
   "outputs": [],
   "source": []
  }
 ],
 "metadata": {
  "colab": {
   "name": "Копия блокнота \"L1_visualization.ipynb\"",
   "provenance": [
    {
     "file_id": "1WJ6MEapVkR8EgWP5ySOqChM7WYWhMwC7",
     "timestamp": 1631962727925
    }
   ]
  },
  "kernelspec": {
   "display_name": "Python 3",
   "language": "python",
   "name": "python3"
  },
  "language_info": {
   "codemirror_mode": {
    "name": "ipython",
    "version": 3
   },
   "file_extension": ".py",
   "mimetype": "text/x-python",
   "name": "python",
   "nbconvert_exporter": "python",
   "pygments_lexer": "ipython3",
   "version": "3.8.10"
  }
 },
 "nbformat": 4,
 "nbformat_minor": 1
}
