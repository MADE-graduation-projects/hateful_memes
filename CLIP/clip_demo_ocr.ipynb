{
 "cells": [
  {
   "cell_type": "code",
   "execution_count": 1,
   "metadata": {
    "tags": []
   },
   "outputs": [],
   "source": [
    "import pandas as pd\n",
    "import matplotlib.pyplot as plt\n",
    "import numpy as np\n",
    "import matplotlib.image as img\n",
    "\n",
    "import json\n",
    "\n",
    "from torchvision import transforms as T\n",
    "from torch.utils.data import DataLoader\n",
    "import torchvision\n",
    "import torchvision.transforms.functional as F\n",
    "\n",
    "import torch\n",
    "import os\n",
    "\n",
    "import numpy as np\n",
    "\n",
    "\n",
    "from torch.utils.data import DataLoader\n",
    "from tqdm import tqdm\n",
    "\n",
    "import cv2\n",
    "from cv2 import cv2 as cv2_ext\n",
    "\n",
    "import clip\n",
    "from PIL import Image\n",
    "\n",
    "import torch.nn as nn\n",
    "\n",
    "from sklearn.metrics import f1_score, accuracy_score, roc_auc_score, roc_curve, confusion_matrix\n",
    "\n",
    "from prettytable import PrettyTable\n",
    "from CLIP_utils import get_features, get_lr, train_model, compute_accuracy\n",
    "\n",
    "import optuna\n",
    "from enum import IntEnum\n",
    "\n",
    "\n",
    "import pytesseract\n",
    "pytesseract.pytesseract.tesseract_cmd = r'C:\\Program Files\\Tesseract-OCR\\tesseract'"
   ]
  },
  {
   "cell_type": "code",
   "execution_count": null,
   "metadata": {},
   "outputs": [],
   "source": []
  },
  {
   "cell_type": "code",
   "execution_count": 2,
   "metadata": {},
   "outputs": [],
   "source": [
    "from classes.transforms.CropCenter import CropCenter\n",
    "from classes.transforms.ScaleMaxSideToSize import ScaleMaxSideToSize\n",
    "#from classes.transforms.Binarize import Binarize\n",
    "#from classes.OCR_Wrapper import OCR_Wrapper\n",
    "from classes.dataset.HatefulMemesDataset import HatefulMemesDataset\n",
    "from classes.dataset.FeaturesDataset import FeaturesDataset"
   ]
  },
  {
   "cell_type": "code",
   "execution_count": 3,
   "metadata": {},
   "outputs": [],
   "source": [
    "CROP_SIZE=224"
   ]
  },
  {
   "cell_type": "code",
   "execution_count": null,
   "metadata": {},
   "outputs": [],
   "source": []
  },
  {
   "cell_type": "code",
   "execution_count": null,
   "metadata": {},
   "outputs": [],
   "source": []
  },
  {
   "cell_type": "code",
   "execution_count": 5,
   "metadata": {},
   "outputs": [],
   "source": [
    "#del OCR_Wrapper\n",
    "class OCR_Wrapper(object):\n",
    "    def __init__(self, action, transform):\n",
    "        self.action = action\n",
    "        self.transform = transform\n",
    "\n",
    "    def __call__(self, path):\n",
    "        image = cv2_ext.imread(path, cv2_ext.COLOR_BGR2RGB)\n",
    "        image = self.transform(image)\n",
    "        return self.action(image)\n",
    "    \n",
    "#del Binarize\n",
    "#from classes.transforms.Binarize import Binarize\n",
    "\n",
    "\n",
    "class Binarize(object):\n",
    "    def __init__(self, thresh, maxval, type_):\n",
    "        self.thresh = thresh\n",
    "        self.maxval = maxval\n",
    "        self.type_ = type_\n",
    "\n",
    "    def __call__(self, sample):\n",
    "        img = sample\n",
    "        img = cv2_ext.cvtColor(img, cv2_ext.COLOR_BGR2GRAY)\n",
    "        _, sample = cv2_ext.threshold(img, thresh=self.thresh, maxval=self.maxval, type=self.type_)\n",
    "      \n",
    "        return sample"
   ]
  },
  {
   "cell_type": "code",
   "execution_count": 6,
   "metadata": {},
   "outputs": [],
   "source": [
    "ocr_wrapper = OCR_Wrapper(\n",
    "    action=lambda image: pytesseract.image_to_string(image).replace('\\n', ' '), \n",
    "    transform=T.Compose([\n",
    "        ScaleMaxSideToSize(CROP_SIZE),\n",
    "        CropCenter(CROP_SIZE),\n",
    "        Binarize(thresh=241, maxval=39, type_=cv2_ext.THRESH_BINARY_INV),\n",
    "]))"
   ]
  },
  {
   "cell_type": "code",
   "execution_count": 7,
   "metadata": {},
   "outputs": [
    {
     "data": {
      "text/plain": [
       "'when youth why sat yuutl Une  ed  Hrisuty Kuper is v0  '"
      ]
     },
     "execution_count": 7,
     "metadata": {},
     "output_type": "execute_result"
    }
   ],
   "source": [
    "ocr_wrapper(r'E:\\coding\\MADE\\3_graduation\\ocr\\01243.png')\n"
   ]
  },
  {
   "cell_type": "code",
   "execution_count": null,
   "metadata": {},
   "outputs": [],
   "source": []
  },
  {
   "cell_type": "code",
   "execution_count": 8,
   "metadata": {},
   "outputs": [],
   "source": [
    "data_dir = r'E:\\datasets\\MADE\\3_graduation\\parthplc\\archive\\data\\\\'"
   ]
  },
  {
   "cell_type": "code",
   "execution_count": 9,
   "metadata": {},
   "outputs": [],
   "source": [
    "train_path = data_dir + 'train.jsonl'\n",
    "dev_path = data_dir + 'dev.jsonl'\n",
    "\n",
    "train_data = pd.read_json(train_path, lines=True)\n",
    "test_data = pd.read_json(dev_path, lines=True)"
   ]
  },
  {
   "cell_type": "code",
   "execution_count": 10,
   "metadata": {},
   "outputs": [],
   "source": [
    "device = \"cuda\" if torch.cuda.is_available() else \"cpu\""
   ]
  },
  {
   "cell_type": "code",
   "execution_count": null,
   "metadata": {},
   "outputs": [],
   "source": []
  },
  {
   "cell_type": "code",
   "execution_count": 11,
   "metadata": {},
   "outputs": [],
   "source": [
    "\n",
    "model, preprocess = clip.load(\"ViT-B/32\", device=device)"
   ]
  },
  {
   "cell_type": "code",
   "execution_count": null,
   "metadata": {},
   "outputs": [],
   "source": []
  },
  {
   "cell_type": "markdown",
   "metadata": {},
   "source": [
    "#### Предобработка изображений"
   ]
  },
  {
   "cell_type": "code",
   "execution_count": 12,
   "metadata": {},
   "outputs": [],
   "source": [
    "MEAN = torch.tensor([0.485, 0.456, 0.406])\n",
    "STD = torch.tensor([0.229, 0.224, 0.225])"
   ]
  },
  {
   "cell_type": "code",
   "execution_count": 13,
   "metadata": {},
   "outputs": [],
   "source": [
    "transforms = T.Compose([\n",
    "    ScaleMaxSideToSize(CROP_SIZE),\n",
    "    CropCenter(CROP_SIZE),\n",
    "    T.ToTensor(),\n",
    "    T.Normalize(mean=MEAN, std=STD),\n",
    "])"
   ]
  },
  {
   "cell_type": "code",
   "execution_count": null,
   "metadata": {},
   "outputs": [],
   "source": []
  },
  {
   "cell_type": "code",
   "execution_count": null,
   "metadata": {},
   "outputs": [],
   "source": []
  },
  {
   "cell_type": "code",
   "execution_count": 14,
   "metadata": {},
   "outputs": [],
   "source": [
    "train_dataset = HatefulMemesDataset(train_path, transforms)\n",
    "val_dataset = HatefulMemesDataset(dev_path, transforms)"
   ]
  },
  {
   "cell_type": "code",
   "execution_count": null,
   "metadata": {},
   "outputs": [],
   "source": []
  },
  {
   "cell_type": "code",
   "execution_count": null,
   "metadata": {},
   "outputs": [],
   "source": []
  },
  {
   "cell_type": "markdown",
   "metadata": {},
   "source": [
    "#### Извлекаем признаки из текста и картинок"
   ]
  },
  {
   "cell_type": "code",
   "execution_count": 15,
   "metadata": {},
   "outputs": [
    {
     "name": "stderr",
     "output_type": "stream",
     "text": [
      "100%|██████████████████████████████████████████████████████████████████████████████████| 85/85 [17:37<00:00, 12.44s/it]\n",
      "100%|████████████████████████████████████████████████████████████████████████████████████| 5/5 [01:05<00:00, 13.16s/it]\n"
     ]
    }
   ],
   "source": [
    "features_train, labels_train = get_features(model, train_dataset, ocr_wrapper)\n",
    "features_val, labels_val = get_features(model, val_dataset, ocr_wrapper)"
   ]
  },
  {
   "cell_type": "code",
   "execution_count": 16,
   "metadata": {},
   "outputs": [],
   "source": [
    "features_train_dataset = FeaturesDataset(features_train, labels_train)\n",
    "features_val_dataset = FeaturesDataset(features_val, labels_val)"
   ]
  },
  {
   "cell_type": "code",
   "execution_count": null,
   "metadata": {},
   "outputs": [],
   "source": []
  },
  {
   "cell_type": "code",
   "execution_count": 27,
   "metadata": {},
   "outputs": [
    {
     "name": "stdout",
     "output_type": "stream",
     "text": [
      "Sequential(\n",
      "  (0): Linear(in_features=1024, out_features=256, bias=True)\n",
      "  (1): Dropout(p=0.66, inplace=False)\n",
      "  (2): BatchNorm1d(256, eps=1e-05, momentum=0.1, affine=True, track_running_stats=True)\n",
      "  (3): ReLU(inplace=True)\n",
      "  (4): Linear(in_features=256, out_features=256, bias=True)\n",
      "  (5): Dropout(p=0.66, inplace=False)\n",
      "  (6): BatchNorm1d(256, eps=1e-05, momentum=0.1, affine=True, track_running_stats=True)\n",
      "  (7): ReLU(inplace=True)\n",
      "  (8): Linear(in_features=256, out_features=2, bias=True)\n",
      ")\n"
     ]
    }
   ],
   "source": [
    "best_model = torch.load(open('classifier_13_0.654.ckpt', 'rb'))\n",
    "print(best_model)"
   ]
  },
  {
   "cell_type": "code",
   "execution_count": null,
   "metadata": {},
   "outputs": [],
   "source": []
  },
  {
   "cell_type": "code",
   "execution_count": 28,
   "metadata": {},
   "outputs": [
    {
     "name": "stdout",
     "output_type": "stream",
     "text": [
      "0.624 0.6384800000000002\n"
     ]
    }
   ],
   "source": [
    "best_model.eval()\n",
    "for i_step, (x, y) in enumerate(DataLoader(features_val_dataset, batch_size=5000)):\n",
    "    prediction = best_model(x)\n",
    "\n",
    "acc_score = accuracy_score(np.array([x.item() for x in labels_val]), torch.max(prediction, 1)[1])\n",
    "auc_score = roc_auc_score(np.array([x.item() for x in labels_val]), prediction[:,1].detach().numpy())\n",
    "\n",
    "print(acc_score, auc_score)"
   ]
  },
  {
   "cell_type": "code",
   "execution_count": null,
   "metadata": {},
   "outputs": [],
   "source": []
  },
  {
   "cell_type": "code",
   "execution_count": 29,
   "metadata": {},
   "outputs": [
    {
     "name": "stdout",
     "output_type": "stream",
     "text": [
      "0.6384800000000002\n"
     ]
    },
    {
     "data": {
      "image/png": "[encoded data removed]",
      "text/plain": [
       "<Figure size 432x288 with 1 Axes>"
      ]
     },
     "metadata": {
      "needs_background": "light"
     },
     "output_type": "display_data"
    }
   ],
   "source": [
    "fpr, tpr, thresh = roc_curve(labels_val, prediction[:,1].detach().numpy(), pos_label=1)\n",
    "\n",
    "random_probs = [0 for i in range(len(labels_val))]\n",
    "p_fpr, p_tpr, _ = roc_curve(labels_val, random_probs, pos_label=1)\n",
    "auc_score = roc_auc_score(labels_val, prediction[:,1].detach().numpy())\n",
    "print(auc_score)\n",
    "\n",
    "plt.plot(fpr, tpr, linestyle='--',color='orange')\n",
    "plt.plot(p_fpr, p_tpr, linestyle='--', color='blue')\n",
    "plt.title('ROC Curve', fontsize=20)\n",
    "plt.xlabel('False Positive Rate', fontsize=18)\n",
    "plt.ylabel('True Positive rate',fontsize=18)\n",
    "\n",
    "plt.show();"
   ]
  },
  {
   "cell_type": "code",
   "execution_count": null,
   "metadata": {},
   "outputs": [],
   "source": []
  },
  {
   "cell_type": "code",
   "execution_count": 30,
   "metadata": {},
   "outputs": [
    {
     "name": "stdout",
     "output_type": "stream",
     "text": [
      "0.6921176470588235 0.8482892465032337\n"
     ]
    }
   ],
   "source": [
    "best_model.eval()\n",
    "for i_step, (x, y) in enumerate(DataLoader(features_train_dataset, batch_size=50000)):\n",
    "    prediction = best_model(x)\n",
    "\n",
    "acc_score = accuracy_score(np.array([x.item() for x in labels_train]), torch.max(prediction, 1)[1])\n",
    "auc_score = roc_auc_score(np.array([x.item() for x in labels_train]), prediction[:,1].detach().numpy())\n",
    "\n",
    "print(acc_score, auc_score)"
   ]
  },
  {
   "cell_type": "code",
   "execution_count": 31,
   "metadata": {},
   "outputs": [
    {
     "name": "stdout",
     "output_type": "stream",
     "text": [
      "0.8482892465032337\n"
     ]
    },
    {
     "data": {
      "image/png": "[encoded data removed]",
      "text/plain": [
       "<Figure size 432x288 with 1 Axes>"
      ]
     },
     "metadata": {
      "needs_background": "light"
     },
     "output_type": "display_data"
    }
   ],
   "source": [
    "fpr, tpr, thresh = roc_curve(labels_train, prediction[:,1].detach().numpy(), pos_label=1)\n",
    "\n",
    "random_probs = [0 for i in range(len(labels_train))]\n",
    "p_fpr, p_tpr, _ = roc_curve(labels_train, random_probs, pos_label=1)\n",
    "auc_score = roc_auc_score(labels_train, prediction[:,1].detach().numpy())\n",
    "print(auc_score)\n",
    "\n",
    "plt.plot(fpr, tpr, linestyle='--',color='orange')\n",
    "plt.plot(p_fpr, p_tpr, linestyle='--', color='blue')\n",
    "plt.title('ROC Curve', fontsize=20)\n",
    "plt.xlabel('False Positive Rate', fontsize=18)\n",
    "plt.ylabel('True Positive rate',fontsize=18)\n",
    "\n",
    "plt.show();"
   ]
  },
  {
   "cell_type": "code",
   "execution_count": null,
   "metadata": {},
   "outputs": [],
   "source": []
  },
  {
   "cell_type": "code",
   "execution_count": 32,
   "metadata": {},
   "outputs": [],
   "source": [
    "input_shape = 1024\n",
    "num_classes = 2"
   ]
  },
  {
   "cell_type": "code",
   "execution_count": 33,
   "metadata": {},
   "outputs": [
    {
     "name": "stdout",
     "output_type": "stream",
     "text": [
      "Sequential(\n",
      "  (0): Linear(in_features=1024, out_features=256, bias=True)\n",
      "  (1): Dropout(p=0.66, inplace=False)\n",
      "  (2): BatchNorm1d(256, eps=1e-05, momentum=0.1, affine=True, track_running_stats=True)\n",
      "  (3): ReLU(inplace=True)\n",
      "  (4): Linear(in_features=256, out_features=256, bias=True)\n",
      "  (5): Dropout(p=0.66, inplace=False)\n",
      "  (6): BatchNorm1d(256, eps=1e-05, momentum=0.1, affine=True, track_running_stats=True)\n",
      "  (7): ReLU(inplace=True)\n",
      "  (8): Linear(in_features=256, out_features=2, bias=True)\n",
      ")\n",
      "Epoch: 0 lr: 0.010000; Average loss: 0.699690, Train accuracy: 0.612235, Val accuracy: 0.582000\n",
      "Epoch: 1 lr: 0.010000; Average loss: 0.618513, Train accuracy: 0.668235, Val accuracy: 0.502000\n",
      "Epoch: 2 lr: 0.010000; Average loss: 0.563589, Train accuracy: 0.704824, Val accuracy: 0.636000\n",
      "Epoch: 3 lr: 0.010000; Average loss: 0.549696, Train accuracy: 0.712000, Val accuracy: 0.618000\n",
      "Epoch: 4 lr: 0.010000; Average loss: 0.533811, Train accuracy: 0.732941, Val accuracy: 0.648000\n",
      "saved classifier_4_0.648.ckpt\n",
      "Epoch: 5 lr: 0.010000; Average loss: 0.520091, Train accuracy: 0.737647, Val accuracy: 0.638000\n",
      "Epoch: 6 lr: 0.010000; Average loss: 0.511634, Train accuracy: 0.747294, Val accuracy: 0.632000\n",
      "Epoch: 7 lr: 0.010000; Average loss: 0.497076, Train accuracy: 0.755412, Val accuracy: 0.612000\n",
      "Epoch: 8 lr: 0.010000; Average loss: 0.481288, Train accuracy: 0.770706, Val accuracy: 0.630000\n",
      "Epoch: 9 lr: 0.008000; Average loss: 0.463220, Train accuracy: 0.779294, Val accuracy: 0.620000\n",
      "Epoch: 10 lr: 0.008000; Average loss: 0.450077, Train accuracy: 0.783412, Val accuracy: 0.626000\n",
      "Epoch: 11 lr: 0.008000; Average loss: 0.434117, Train accuracy: 0.799176, Val accuracy: 0.638000\n",
      "Epoch: 12 lr: 0.008000; Average loss: 0.410187, Train accuracy: 0.809765, Val accuracy: 0.632000\n",
      "Epoch: 13 lr: 0.008000; Average loss: 0.402994, Train accuracy: 0.817176, Val accuracy: 0.642000\n",
      "Epoch: 14 lr: 0.008000; Average loss: 0.383326, Train accuracy: 0.829882, Val accuracy: 0.628000\n",
      "Epoch: 15 lr: 0.008000; Average loss: 0.372859, Train accuracy: 0.828706, Val accuracy: 0.624000\n",
      "Epoch: 16 lr: 0.008000; Average loss: 0.359258, Train accuracy: 0.832824, Val accuracy: 0.624000\n",
      "Epoch: 17 lr: 0.008000; Average loss: 0.342498, Train accuracy: 0.849412, Val accuracy: 0.632000\n",
      "Epoch: 18 lr: 0.008000; Average loss: 0.335764, Train accuracy: 0.850824, Val accuracy: 0.622000\n",
      "Epoch: 19 lr: 0.006400; Average loss: 0.309427, Train accuracy: 0.862000, Val accuracy: 0.638000\n",
      "Epoch: 20 lr: 0.006400; Average loss: 0.293306, Train accuracy: 0.871882, Val accuracy: 0.626000\n",
      "Epoch: 21 lr: 0.006400; Average loss: 0.281426, Train accuracy: 0.877647, Val accuracy: 0.640000\n",
      "Epoch: 22 lr: 0.006400; Average loss: 0.267618, Train accuracy: 0.883765, Val accuracy: 0.640000\n",
      "Epoch: 23 lr: 0.006400; Average loss: 0.251876, Train accuracy: 0.894471, Val accuracy: 0.632000\n",
      "Epoch: 24 lr: 0.006400; Average loss: 0.245206, Train accuracy: 0.896235, Val accuracy: 0.652000\n",
      "saved classifier_24_0.652.ckpt\n",
      "Epoch: 25 lr: 0.006400; Average loss: 0.237603, Train accuracy: 0.895529, Val accuracy: 0.624000\n",
      "Epoch: 26 lr: 0.006400; Average loss: 0.227144, Train accuracy: 0.903294, Val accuracy: 0.632000\n",
      "Epoch: 27 lr: 0.006400; Average loss: 0.215321, Train accuracy: 0.905882, Val accuracy: 0.636000\n",
      "Epoch: 28 lr: 0.006400; Average loss: 0.226349, Train accuracy: 0.906000, Val accuracy: 0.640000\n",
      "Epoch: 29 lr: 0.005120; Average loss: 0.202328, Train accuracy: 0.913529, Val accuracy: 0.632000\n",
      "Epoch: 30 lr: 0.005120; Average loss: 0.188913, Train accuracy: 0.922235, Val accuracy: 0.642000\n",
      "Epoch: 31 lr: 0.005120; Average loss: 0.179138, Train accuracy: 0.926588, Val accuracy: 0.636000\n",
      "Epoch: 32 lr: 0.005120; Average loss: 0.173588, Train accuracy: 0.928000, Val accuracy: 0.644000\n",
      "Epoch: 33 lr: 0.005120; Average loss: 0.162809, Train accuracy: 0.933882, Val accuracy: 0.640000\n",
      "Epoch: 34 lr: 0.005120; Average loss: 0.160796, Train accuracy: 0.934941, Val accuracy: 0.644000\n",
      "Epoch: 35 lr: 0.005120; Average loss: 0.157352, Train accuracy: 0.934706, Val accuracy: 0.634000\n",
      "Epoch: 36 lr: 0.005120; Average loss: 0.144827, Train accuracy: 0.941176, Val accuracy: 0.636000\n",
      "Epoch: 37 lr: 0.005120; Average loss: 0.146587, Train accuracy: 0.940706, Val accuracy: 0.648000\n",
      "Epoch: 38 lr: 0.005120; Average loss: 0.146799, Train accuracy: 0.940941, Val accuracy: 0.628000\n",
      "Epoch: 39 lr: 0.004096; Average loss: 0.135645, Train accuracy: 0.947529, Val accuracy: 0.620000\n",
      "Epoch: 40 lr: 0.004096; Average loss: 0.131276, Train accuracy: 0.948471, Val accuracy: 0.632000\n",
      "Epoch: 41 lr: 0.004096; Average loss: 0.113916, Train accuracy: 0.954588, Val accuracy: 0.620000\n",
      "Epoch: 42 lr: 0.004096; Average loss: 0.127148, Train accuracy: 0.947882, Val accuracy: 0.628000\n",
      "Epoch: 43 lr: 0.004096; Average loss: 0.114029, Train accuracy: 0.954706, Val accuracy: 0.624000\n",
      "Epoch: 44 lr: 0.004096; Average loss: 0.106672, Train accuracy: 0.959412, Val accuracy: 0.634000\n",
      "Epoch: 45 lr: 0.004096; Average loss: 0.100858, Train accuracy: 0.957765, Val accuracy: 0.634000\n",
      "Epoch: 46 lr: 0.004096; Average loss: 0.102737, Train accuracy: 0.958235, Val accuracy: 0.640000\n",
      "Epoch: 47 lr: 0.004096; Average loss: 0.094408, Train accuracy: 0.965294, Val accuracy: 0.614000\n",
      "Epoch: 48 lr: 0.004096; Average loss: 0.097211, Train accuracy: 0.962235, Val accuracy: 0.636000\n",
      "Epoch: 49 lr: 0.003277; Average loss: 0.095435, Train accuracy: 0.963294, Val accuracy: 0.634000\n",
      "Epoch: 50 lr: 0.003277; Average loss: 0.094888, Train accuracy: 0.961882, Val accuracy: 0.634000\n",
      "Epoch: 51 lr: 0.003277; Average loss: 0.089762, Train accuracy: 0.965176, Val accuracy: 0.638000\n",
      "Epoch: 52 lr: 0.003277; Average loss: 0.080625, Train accuracy: 0.970706, Val accuracy: 0.640000\n",
      "Epoch: 53 lr: 0.003277; Average loss: 0.079804, Train accuracy: 0.969176, Val accuracy: 0.628000\n",
      "Epoch: 54 lr: 0.003277; Average loss: 0.077020, Train accuracy: 0.971529, Val accuracy: 0.626000\n",
      "Epoch: 55 lr: 0.003277; Average loss: 0.072853, Train accuracy: 0.973176, Val accuracy: 0.630000\n",
      "Epoch: 56 lr: 0.003277; Average loss: 0.072406, Train accuracy: 0.971294, Val accuracy: 0.624000\n",
      "Epoch: 57 lr: 0.003277; Average loss: 0.072336, Train accuracy: 0.974118, Val accuracy: 0.614000\n",
      "Epoch: 58 lr: 0.003277; Average loss: 0.072212, Train accuracy: 0.973059, Val accuracy: 0.626000\n",
      "Epoch: 59 lr: 0.002621; Average loss: 0.071967, Train accuracy: 0.972941, Val accuracy: 0.622000\n",
      "Epoch: 60 lr: 0.002621; Average loss: 0.067140, Train accuracy: 0.974118, Val accuracy: 0.634000\n",
      "Epoch: 61 lr: 0.002621; Average loss: 0.068371, Train accuracy: 0.975294, Val accuracy: 0.616000\n",
      "Epoch: 62 lr: 0.002621; Average loss: 0.062683, Train accuracy: 0.974824, Val accuracy: 0.616000\n",
      "Epoch: 63 lr: 0.002621; Average loss: 0.057567, Train accuracy: 0.977529, Val accuracy: 0.626000\n",
      "Epoch: 64 lr: 0.002621; Average loss: 0.060128, Train accuracy: 0.977765, Val accuracy: 0.628000\n",
      "Epoch: 65 lr: 0.002621; Average loss: 0.055054, Train accuracy: 0.978941, Val accuracy: 0.630000\n",
      "Epoch: 66 lr: 0.002621; Average loss: 0.049545, Train accuracy: 0.981647, Val accuracy: 0.624000\n",
      "Epoch: 67 lr: 0.002621; Average loss: 0.053437, Train accuracy: 0.980353, Val accuracy: 0.620000\n",
      "Epoch: 68 lr: 0.002621; Average loss: 0.054002, Train accuracy: 0.980706, Val accuracy: 0.624000\n",
      "Epoch: 69 lr: 0.002097; Average loss: 0.056522, Train accuracy: 0.978941, Val accuracy: 0.620000\n",
      "Epoch: 70 lr: 0.002097; Average loss: 0.043346, Train accuracy: 0.983412, Val accuracy: 0.628000\n",
      "Epoch: 71 lr: 0.002097; Average loss: 0.053130, Train accuracy: 0.979647, Val accuracy: 0.624000\n",
      "Epoch: 72 lr: 0.002097; Average loss: 0.047861, Train accuracy: 0.981765, Val accuracy: 0.630000\n",
      "Epoch: 73 lr: 0.002097; Average loss: 0.047673, Train accuracy: 0.984235, Val accuracy: 0.628000\n",
      "Epoch: 74 lr: 0.002097; Average loss: 0.041927, Train accuracy: 0.984941, Val accuracy: 0.636000\n",
      "Epoch: 75 lr: 0.002097; Average loss: 0.042184, Train accuracy: 0.983882, Val accuracy: 0.624000\n",
      "Epoch: 76 lr: 0.002097; Average loss: 0.039411, Train accuracy: 0.985765, Val accuracy: 0.624000\n",
      "Epoch: 77 lr: 0.002097; Average loss: 0.045020, Train accuracy: 0.983294, Val accuracy: 0.616000\n",
      "Epoch: 78 lr: 0.002097; Average loss: 0.042905, Train accuracy: 0.985059, Val accuracy: 0.626000\n"
     ]
    },
    {
     "name": "stdout",
     "output_type": "stream",
     "text": [
      "Epoch: 79 lr: 0.001678; Average loss: 0.040258, Train accuracy: 0.985294, Val accuracy: 0.632000\n",
      "Epoch: 80 lr: 0.001678; Average loss: 0.035543, Train accuracy: 0.989059, Val accuracy: 0.624000\n",
      "Epoch: 81 lr: 0.001678; Average loss: 0.039157, Train accuracy: 0.985176, Val accuracy: 0.632000\n",
      "Epoch: 82 lr: 0.001678; Average loss: 0.032121, Train accuracy: 0.988941, Val accuracy: 0.628000\n",
      "Epoch: 83 lr: 0.001678; Average loss: 0.029253, Train accuracy: 0.989176, Val accuracy: 0.626000\n",
      "Epoch: 84 lr: 0.001678; Average loss: 0.035254, Train accuracy: 0.988118, Val accuracy: 0.634000\n",
      "Epoch: 85 lr: 0.001678; Average loss: 0.035466, Train accuracy: 0.988588, Val accuracy: 0.622000\n",
      "Epoch: 86 lr: 0.001678; Average loss: 0.029806, Train accuracy: 0.989647, Val accuracy: 0.608000\n",
      "Epoch: 87 lr: 0.001678; Average loss: 0.032638, Train accuracy: 0.988471, Val accuracy: 0.622000\n",
      "Epoch: 88 lr: 0.001678; Average loss: 0.030851, Train accuracy: 0.989176, Val accuracy: 0.624000\n",
      "Epoch: 89 lr: 0.001342; Average loss: 0.034746, Train accuracy: 0.986235, Val accuracy: 0.620000\n",
      "Epoch: 90 lr: 0.001342; Average loss: 0.034339, Train accuracy: 0.987294, Val accuracy: 0.620000\n",
      "Epoch: 91 lr: 0.001342; Average loss: 0.030582, Train accuracy: 0.988235, Val accuracy: 0.626000\n",
      "Epoch: 92 lr: 0.001342; Average loss: 0.028103, Train accuracy: 0.990706, Val accuracy: 0.616000\n",
      "Epoch: 93 lr: 0.001342; Average loss: 0.033843, Train accuracy: 0.988000, Val accuracy: 0.620000\n",
      "Epoch: 94 lr: 0.001342; Average loss: 0.028153, Train accuracy: 0.990588, Val accuracy: 0.620000\n",
      "Epoch: 95 lr: 0.001342; Average loss: 0.031121, Train accuracy: 0.990353, Val accuracy: 0.624000\n",
      "Epoch: 96 lr: 0.001342; Average loss: 0.029613, Train accuracy: 0.990000, Val accuracy: 0.610000\n",
      "Epoch: 97 lr: 0.001342; Average loss: 0.029607, Train accuracy: 0.988824, Val accuracy: 0.620000\n",
      "Epoch: 98 lr: 0.001342; Average loss: 0.026341, Train accuracy: 0.991176, Val accuracy: 0.616000\n",
      "Epoch: 99 lr: 0.001074; Average loss: 0.022194, Train accuracy: 0.993294, Val accuracy: 0.622000\n",
      "Epoch: 100 lr: 0.001074; Average loss: 0.027550, Train accuracy: 0.990118, Val accuracy: 0.610000\n",
      "Epoch: 101 lr: 0.001074; Average loss: 0.028288, Train accuracy: 0.989765, Val accuracy: 0.612000\n",
      "Epoch: 102 lr: 0.001074; Average loss: 0.025197, Train accuracy: 0.990941, Val accuracy: 0.616000\n",
      "Epoch: 103 lr: 0.001074; Average loss: 0.023962, Train accuracy: 0.991765, Val accuracy: 0.616000\n",
      "Epoch: 104 lr: 0.001074; Average loss: 0.023373, Train accuracy: 0.991765, Val accuracy: 0.612000\n",
      "Epoch: 105 lr: 0.001074; Average loss: 0.024175, Train accuracy: 0.991647, Val accuracy: 0.612000\n",
      "Epoch: 106 lr: 0.001074; Average loss: 0.023505, Train accuracy: 0.992706, Val accuracy: 0.618000\n",
      "Epoch: 107 lr: 0.001074; Average loss: 0.021261, Train accuracy: 0.992941, Val accuracy: 0.612000\n",
      "Epoch: 108 lr: 0.001074; Average loss: 0.020437, Train accuracy: 0.992941, Val accuracy: 0.610000\n",
      "Epoch: 109 lr: 0.000859; Average loss: 0.024576, Train accuracy: 0.992353, Val accuracy: 0.616000\n",
      "Epoch: 110 lr: 0.000859; Average loss: 0.028271, Train accuracy: 0.988824, Val accuracy: 0.614000\n",
      "Epoch: 111 lr: 0.000859; Average loss: 0.022294, Train accuracy: 0.992353, Val accuracy: 0.616000\n",
      "Epoch: 112 lr: 0.000859; Average loss: 0.021116, Train accuracy: 0.993294, Val accuracy: 0.616000\n",
      "Epoch: 113 lr: 0.000859; Average loss: 0.024272, Train accuracy: 0.991529, Val accuracy: 0.620000\n",
      "Epoch: 114 lr: 0.000859; Average loss: 0.018957, Train accuracy: 0.993647, Val accuracy: 0.624000\n",
      "Epoch: 115 lr: 0.000859; Average loss: 0.019323, Train accuracy: 0.992941, Val accuracy: 0.612000\n",
      "Epoch: 116 lr: 0.000859; Average loss: 0.021765, Train accuracy: 0.992588, Val accuracy: 0.618000\n",
      "Epoch: 117 lr: 0.000859; Average loss: 0.021594, Train accuracy: 0.994118, Val accuracy: 0.614000\n",
      "Epoch: 118 lr: 0.000859; Average loss: 0.020815, Train accuracy: 0.992824, Val accuracy: 0.620000\n",
      "Epoch: 119 lr: 0.000687; Average loss: 0.020446, Train accuracy: 0.993059, Val accuracy: 0.616000\n",
      "Epoch: 120 lr: 0.000687; Average loss: 0.021279, Train accuracy: 0.992941, Val accuracy: 0.624000\n",
      "Epoch: 121 lr: 0.000687; Average loss: 0.017697, Train accuracy: 0.994118, Val accuracy: 0.622000\n",
      "Epoch: 122 lr: 0.000687; Average loss: 0.017967, Train accuracy: 0.992941, Val accuracy: 0.608000\n",
      "Epoch: 123 lr: 0.000687; Average loss: 0.020689, Train accuracy: 0.992353, Val accuracy: 0.616000\n",
      "Epoch: 124 lr: 0.000687; Average loss: 0.020350, Train accuracy: 0.992235, Val accuracy: 0.618000\n",
      "Epoch: 125 lr: 0.000687; Average loss: 0.016571, Train accuracy: 0.993176, Val accuracy: 0.618000\n",
      "Epoch: 126 lr: 0.000687; Average loss: 0.017023, Train accuracy: 0.994471, Val accuracy: 0.616000\n",
      "Epoch: 127 lr: 0.000687; Average loss: 0.018138, Train accuracy: 0.993412, Val accuracy: 0.618000\n",
      "Epoch: 128 lr: 0.000687; Average loss: 0.018620, Train accuracy: 0.994588, Val accuracy: 0.612000\n",
      "Epoch: 129 lr: 0.000550; Average loss: 0.020796, Train accuracy: 0.992588, Val accuracy: 0.614000\n",
      "Epoch: 130 lr: 0.000550; Average loss: 0.018202, Train accuracy: 0.994000, Val accuracy: 0.614000\n",
      "Epoch: 131 lr: 0.000550; Average loss: 0.018181, Train accuracy: 0.993882, Val accuracy: 0.614000\n",
      "Epoch: 132 lr: 0.000550; Average loss: 0.020234, Train accuracy: 0.992235, Val accuracy: 0.612000\n",
      "Epoch: 133 lr: 0.000550; Average loss: 0.014869, Train accuracy: 0.995176, Val accuracy: 0.614000\n",
      "Epoch: 134 lr: 0.000550; Average loss: 0.016942, Train accuracy: 0.994588, Val accuracy: 0.616000\n",
      "Epoch: 135 lr: 0.000550; Average loss: 0.017844, Train accuracy: 0.994000, Val accuracy: 0.618000\n",
      "Epoch: 136 lr: 0.000550; Average loss: 0.017055, Train accuracy: 0.994235, Val accuracy: 0.618000\n",
      "Epoch: 137 lr: 0.000550; Average loss: 0.017489, Train accuracy: 0.994353, Val accuracy: 0.622000\n",
      "Epoch: 138 lr: 0.000550; Average loss: 0.016480, Train accuracy: 0.994824, Val accuracy: 0.614000\n",
      "Epoch: 139 lr: 0.000440; Average loss: 0.017224, Train accuracy: 0.993882, Val accuracy: 0.612000\n",
      "Epoch: 140 lr: 0.000440; Average loss: 0.018145, Train accuracy: 0.993412, Val accuracy: 0.620000\n",
      "Epoch: 141 lr: 0.000440; Average loss: 0.015701, Train accuracy: 0.994235, Val accuracy: 0.616000\n",
      "Epoch: 142 lr: 0.000440; Average loss: 0.017245, Train accuracy: 0.993059, Val accuracy: 0.620000\n",
      "Epoch: 143 lr: 0.000440; Average loss: 0.017042, Train accuracy: 0.994706, Val accuracy: 0.622000\n",
      "Epoch: 144 lr: 0.000440; Average loss: 0.015699, Train accuracy: 0.994353, Val accuracy: 0.618000\n",
      "Epoch: 145 lr: 0.000440; Average loss: 0.015329, Train accuracy: 0.995294, Val accuracy: 0.618000\n",
      "Epoch: 146 lr: 0.000440; Average loss: 0.016054, Train accuracy: 0.993647, Val accuracy: 0.614000\n",
      "Epoch: 147 lr: 0.000440; Average loss: 0.019501, Train accuracy: 0.993647, Val accuracy: 0.616000\n",
      "Epoch: 148 lr: 0.000440; Average loss: 0.013779, Train accuracy: 0.995176, Val accuracy: 0.620000\n",
      "Epoch: 149 lr: 0.000352; Average loss: 0.015195, Train accuracy: 0.995294, Val accuracy: 0.620000\n",
      "Epoch: 150 lr: 0.000352; Average loss: 0.015376, Train accuracy: 0.995176, Val accuracy: 0.622000\n",
      "Epoch: 151 lr: 0.000352; Average loss: 0.013576, Train accuracy: 0.995294, Val accuracy: 0.622000\n",
      "Epoch: 152 lr: 0.000352; Average loss: 0.016296, Train accuracy: 0.993529, Val accuracy: 0.618000\n",
      "Epoch: 153 lr: 0.000352; Average loss: 0.014202, Train accuracy: 0.996118, Val accuracy: 0.620000\n",
      "Epoch: 154 lr: 0.000352; Average loss: 0.015060, Train accuracy: 0.995765, Val accuracy: 0.616000\n",
      "Epoch: 155 lr: 0.000352; Average loss: 0.014852, Train accuracy: 0.995294, Val accuracy: 0.620000\n",
      "Epoch: 156 lr: 0.000352; Average loss: 0.016488, Train accuracy: 0.994824, Val accuracy: 0.620000\n",
      "Epoch: 157 lr: 0.000352; Average loss: 0.017853, Train accuracy: 0.994118, Val accuracy: 0.616000\n",
      "Epoch: 158 lr: 0.000352; Average loss: 0.014247, Train accuracy: 0.994706, Val accuracy: 0.622000\n",
      "Epoch: 159 lr: 0.000281; Average loss: 0.017145, Train accuracy: 0.994706, Val accuracy: 0.620000\n",
      "Epoch: 160 lr: 0.000281; Average loss: 0.013374, Train accuracy: 0.995529, Val accuracy: 0.620000\n",
      "Epoch: 161 lr: 0.000281; Average loss: 0.016555, Train accuracy: 0.994941, Val accuracy: 0.616000\n",
      "Epoch: 162 lr: 0.000281; Average loss: 0.011551, Train accuracy: 0.995882, Val accuracy: 0.618000\n",
      "Epoch: 163 lr: 0.000281; Average loss: 0.014952, Train accuracy: 0.995529, Val accuracy: 0.622000\n"
     ]
    },
    {
     "name": "stdout",
     "output_type": "stream",
     "text": [
      "Epoch: 164 lr: 0.000281; Average loss: 0.013924, Train accuracy: 0.994824, Val accuracy: 0.622000\n",
      "Epoch: 165 lr: 0.000281; Average loss: 0.013010, Train accuracy: 0.995294, Val accuracy: 0.620000\n",
      "Epoch: 166 lr: 0.000281; Average loss: 0.016963, Train accuracy: 0.994353, Val accuracy: 0.620000\n",
      "Epoch: 167 lr: 0.000281; Average loss: 0.015111, Train accuracy: 0.994706, Val accuracy: 0.622000\n",
      "Epoch: 168 lr: 0.000281; Average loss: 0.012956, Train accuracy: 0.996353, Val accuracy: 0.614000\n",
      "Epoch: 169 lr: 0.000225; Average loss: 0.014042, Train accuracy: 0.996000, Val accuracy: 0.614000\n",
      "Epoch: 170 lr: 0.000225; Average loss: 0.013472, Train accuracy: 0.995412, Val accuracy: 0.612000\n",
      "Epoch: 171 lr: 0.000225; Average loss: 0.016318, Train accuracy: 0.994941, Val accuracy: 0.618000\n",
      "Epoch: 172 lr: 0.000225; Average loss: 0.013787, Train accuracy: 0.995765, Val accuracy: 0.616000\n",
      "Epoch: 173 lr: 0.000225; Average loss: 0.010271, Train accuracy: 0.997176, Val accuracy: 0.614000\n",
      "Epoch: 174 lr: 0.000225; Average loss: 0.013034, Train accuracy: 0.996118, Val accuracy: 0.612000\n",
      "Epoch: 175 lr: 0.000225; Average loss: 0.012973, Train accuracy: 0.995294, Val accuracy: 0.620000\n",
      "Epoch: 176 lr: 0.000225; Average loss: 0.010773, Train accuracy: 0.996706, Val accuracy: 0.618000\n",
      "Epoch: 177 lr: 0.000225; Average loss: 0.014549, Train accuracy: 0.995294, Val accuracy: 0.618000\n",
      "Epoch: 178 lr: 0.000225; Average loss: 0.013344, Train accuracy: 0.995647, Val accuracy: 0.618000\n",
      "Epoch: 179 lr: 0.000180; Average loss: 0.012584, Train accuracy: 0.996118, Val accuracy: 0.618000\n",
      "Epoch: 180 lr: 0.000180; Average loss: 0.011786, Train accuracy: 0.996471, Val accuracy: 0.616000\n",
      "Epoch: 181 lr: 0.000180; Average loss: 0.014140, Train accuracy: 0.996000, Val accuracy: 0.618000\n",
      "Epoch: 182 lr: 0.000180; Average loss: 0.013715, Train accuracy: 0.994824, Val accuracy: 0.620000\n",
      "Epoch: 183 lr: 0.000180; Average loss: 0.011807, Train accuracy: 0.996471, Val accuracy: 0.618000\n",
      "Epoch: 184 lr: 0.000180; Average loss: 0.014987, Train accuracy: 0.995529, Val accuracy: 0.620000\n",
      "Epoch: 185 lr: 0.000180; Average loss: 0.014022, Train accuracy: 0.994941, Val accuracy: 0.620000\n",
      "Epoch: 186 lr: 0.000180; Average loss: 0.015475, Train accuracy: 0.994941, Val accuracy: 0.622000\n",
      "Epoch: 187 lr: 0.000180; Average loss: 0.012434, Train accuracy: 0.995412, Val accuracy: 0.620000\n",
      "Epoch: 188 lr: 0.000180; Average loss: 0.016665, Train accuracy: 0.994000, Val accuracy: 0.616000\n",
      "Epoch: 189 lr: 0.000144; Average loss: 0.011144, Train accuracy: 0.996235, Val accuracy: 0.618000\n",
      "Epoch: 190 lr: 0.000144; Average loss: 0.015592, Train accuracy: 0.994706, Val accuracy: 0.614000\n",
      "Epoch: 191 lr: 0.000144; Average loss: 0.012208, Train accuracy: 0.996471, Val accuracy: 0.616000\n",
      "Epoch: 192 lr: 0.000144; Average loss: 0.014128, Train accuracy: 0.995529, Val accuracy: 0.616000\n",
      "Epoch: 193 lr: 0.000144; Average loss: 0.012914, Train accuracy: 0.994588, Val accuracy: 0.616000\n",
      "Epoch: 194 lr: 0.000144; Average loss: 0.011556, Train accuracy: 0.995176, Val accuracy: 0.622000\n",
      "Epoch: 195 lr: 0.000144; Average loss: 0.013371, Train accuracy: 0.995765, Val accuracy: 0.614000\n",
      "Epoch: 196 lr: 0.000144; Average loss: 0.010932, Train accuracy: 0.997176, Val accuracy: 0.612000\n",
      "Epoch: 197 lr: 0.000144; Average loss: 0.013548, Train accuracy: 0.995412, Val accuracy: 0.618000\n",
      "Epoch: 198 lr: 0.000144; Average loss: 0.011754, Train accuracy: 0.995412, Val accuracy: 0.620000\n",
      "Epoch: 199 lr: 0.000115; Average loss: 0.012065, Train accuracy: 0.996588, Val accuracy: 0.616000\n",
      "Epoch: 200 lr: 0.000115; Average loss: 0.010719, Train accuracy: 0.996588, Val accuracy: 0.618000\n",
      "Epoch: 201 lr: 0.000115; Average loss: 0.014708, Train accuracy: 0.995412, Val accuracy: 0.616000\n",
      "Epoch: 202 lr: 0.000115; Average loss: 0.011142, Train accuracy: 0.996353, Val accuracy: 0.620000\n",
      "Epoch: 203 lr: 0.000115; Average loss: 0.012915, Train accuracy: 0.995176, Val accuracy: 0.620000\n",
      "Epoch: 204 lr: 0.000115; Average loss: 0.012011, Train accuracy: 0.996353, Val accuracy: 0.620000\n",
      "Epoch: 205 lr: 0.000115; Average loss: 0.011725, Train accuracy: 0.995529, Val accuracy: 0.614000\n",
      "Epoch: 206 lr: 0.000115; Average loss: 0.012254, Train accuracy: 0.995412, Val accuracy: 0.618000\n",
      "Epoch: 207 lr: 0.000115; Average loss: 0.014784, Train accuracy: 0.995882, Val accuracy: 0.614000\n",
      "Epoch: 208 lr: 0.000115; Average loss: 0.011094, Train accuracy: 0.997059, Val accuracy: 0.622000\n",
      "Epoch: 209 lr: 0.000092; Average loss: 0.010356, Train accuracy: 0.996353, Val accuracy: 0.620000\n",
      "Epoch: 210 lr: 0.000092; Average loss: 0.012733, Train accuracy: 0.996353, Val accuracy: 0.620000\n",
      "Epoch: 211 lr: 0.000092; Average loss: 0.011433, Train accuracy: 0.996118, Val accuracy: 0.614000\n",
      "Epoch: 212 lr: 0.000092; Average loss: 0.013415, Train accuracy: 0.995765, Val accuracy: 0.612000\n",
      "Epoch: 213 lr: 0.000092; Average loss: 0.012452, Train accuracy: 0.995882, Val accuracy: 0.614000\n",
      "Epoch: 214 lr: 0.000092; Average loss: 0.013195, Train accuracy: 0.994941, Val accuracy: 0.610000\n",
      "Epoch: 215 lr: 0.000092; Average loss: 0.009509, Train accuracy: 0.997294, Val accuracy: 0.618000\n",
      "Epoch: 216 lr: 0.000092; Average loss: 0.014419, Train accuracy: 0.995765, Val accuracy: 0.612000\n",
      "Epoch: 217 lr: 0.000092; Average loss: 0.013507, Train accuracy: 0.995529, Val accuracy: 0.608000\n",
      "Epoch: 218 lr: 0.000092; Average loss: 0.011837, Train accuracy: 0.996353, Val accuracy: 0.622000\n",
      "Epoch: 219 lr: 0.000074; Average loss: 0.013081, Train accuracy: 0.996235, Val accuracy: 0.620000\n",
      "Epoch: 220 lr: 0.000074; Average loss: 0.012837, Train accuracy: 0.995529, Val accuracy: 0.616000\n",
      "Epoch: 221 lr: 0.000074; Average loss: 0.012885, Train accuracy: 0.995412, Val accuracy: 0.618000\n",
      "Epoch: 222 lr: 0.000074; Average loss: 0.012923, Train accuracy: 0.995765, Val accuracy: 0.614000\n",
      "Epoch: 223 lr: 0.000074; Average loss: 0.010392, Train accuracy: 0.997529, Val accuracy: 0.612000\n",
      "Epoch: 224 lr: 0.000074; Average loss: 0.010643, Train accuracy: 0.996941, Val accuracy: 0.608000\n",
      "Epoch: 225 lr: 0.000074; Average loss: 0.013462, Train accuracy: 0.995294, Val accuracy: 0.610000\n",
      "Epoch: 226 lr: 0.000074; Average loss: 0.011996, Train accuracy: 0.996353, Val accuracy: 0.616000\n",
      "Epoch: 227 lr: 0.000074; Average loss: 0.012889, Train accuracy: 0.995765, Val accuracy: 0.612000\n",
      "Epoch: 228 lr: 0.000074; Average loss: 0.012441, Train accuracy: 0.995176, Val accuracy: 0.612000\n",
      "Epoch: 229 lr: 0.000059; Average loss: 0.014047, Train accuracy: 0.995059, Val accuracy: 0.616000\n",
      "Epoch: 230 lr: 0.000059; Average loss: 0.012117, Train accuracy: 0.995882, Val accuracy: 0.614000\n",
      "Epoch: 231 lr: 0.000059; Average loss: 0.011415, Train accuracy: 0.996471, Val accuracy: 0.614000\n",
      "Epoch: 232 lr: 0.000059; Average loss: 0.013844, Train accuracy: 0.996588, Val accuracy: 0.616000\n",
      "Epoch: 233 lr: 0.000059; Average loss: 0.013570, Train accuracy: 0.995412, Val accuracy: 0.616000\n",
      "Epoch: 234 lr: 0.000059; Average loss: 0.011907, Train accuracy: 0.996706, Val accuracy: 0.620000\n",
      "Epoch: 235 lr: 0.000059; Average loss: 0.013341, Train accuracy: 0.996000, Val accuracy: 0.620000\n",
      "Epoch: 236 lr: 0.000059; Average loss: 0.011337, Train accuracy: 0.996824, Val accuracy: 0.612000\n",
      "Epoch: 237 lr: 0.000059; Average loss: 0.011303, Train accuracy: 0.996471, Val accuracy: 0.610000\n",
      "Epoch: 238 lr: 0.000059; Average loss: 0.011981, Train accuracy: 0.996471, Val accuracy: 0.620000\n",
      "Epoch: 239 lr: 0.000047; Average loss: 0.015810, Train accuracy: 0.994471, Val accuracy: 0.620000\n",
      "Epoch: 240 lr: 0.000047; Average loss: 0.009437, Train accuracy: 0.996706, Val accuracy: 0.622000\n",
      "Epoch: 241 lr: 0.000047; Average loss: 0.011272, Train accuracy: 0.995882, Val accuracy: 0.622000\n",
      "Epoch: 242 lr: 0.000047; Average loss: 0.012356, Train accuracy: 0.995647, Val accuracy: 0.624000\n",
      "Epoch: 243 lr: 0.000047; Average loss: 0.010331, Train accuracy: 0.996471, Val accuracy: 0.618000\n",
      "Epoch: 244 lr: 0.000047; Average loss: 0.010539, Train accuracy: 0.996941, Val accuracy: 0.618000\n",
      "Epoch: 245 lr: 0.000047; Average loss: 0.010386, Train accuracy: 0.996824, Val accuracy: 0.614000\n",
      "Epoch: 246 lr: 0.000047; Average loss: 0.012099, Train accuracy: 0.996353, Val accuracy: 0.616000\n",
      "Epoch: 247 lr: 0.000047; Average loss: 0.012396, Train accuracy: 0.995882, Val accuracy: 0.620000\n"
     ]
    },
    {
     "name": "stdout",
     "output_type": "stream",
     "text": [
      "Epoch: 248 lr: 0.000047; Average loss: 0.013386, Train accuracy: 0.995647, Val accuracy: 0.618000\n",
      "Epoch: 249 lr: 0.000038; Average loss: 0.011952, Train accuracy: 0.996471, Val accuracy: 0.620000\n",
      "Epoch: 250 lr: 0.000038; Average loss: 0.011416, Train accuracy: 0.995765, Val accuracy: 0.620000\n",
      "Epoch: 251 lr: 0.000038; Average loss: 0.009874, Train accuracy: 0.997294, Val accuracy: 0.620000\n",
      "Epoch: 252 lr: 0.000038; Average loss: 0.010372, Train accuracy: 0.996235, Val accuracy: 0.618000\n",
      "Epoch: 253 lr: 0.000038; Average loss: 0.011683, Train accuracy: 0.996353, Val accuracy: 0.614000\n",
      "Epoch: 254 lr: 0.000038; Average loss: 0.012498, Train accuracy: 0.995647, Val accuracy: 0.612000\n",
      "Epoch: 255 lr: 0.000038; Average loss: 0.012535, Train accuracy: 0.996118, Val accuracy: 0.618000\n",
      "Epoch: 256 lr: 0.000038; Average loss: 0.013590, Train accuracy: 0.995059, Val accuracy: 0.618000\n",
      "Epoch: 257 lr: 0.000038; Average loss: 0.009980, Train accuracy: 0.996824, Val accuracy: 0.618000\n",
      "Epoch: 258 lr: 0.000038; Average loss: 0.013362, Train accuracy: 0.995647, Val accuracy: 0.622000\n",
      "Epoch: 259 lr: 0.000030; Average loss: 0.010005, Train accuracy: 0.996706, Val accuracy: 0.622000\n",
      "Epoch: 260 lr: 0.000030; Average loss: 0.010837, Train accuracy: 0.996471, Val accuracy: 0.618000\n",
      "Epoch: 261 lr: 0.000030; Average loss: 0.014741, Train accuracy: 0.994588, Val accuracy: 0.618000\n",
      "Epoch: 262 lr: 0.000030; Average loss: 0.010927, Train accuracy: 0.996706, Val accuracy: 0.614000\n",
      "Epoch: 263 lr: 0.000030; Average loss: 0.010910, Train accuracy: 0.996235, Val accuracy: 0.616000\n",
      "Epoch: 264 lr: 0.000030; Average loss: 0.010324, Train accuracy: 0.996118, Val accuracy: 0.620000\n",
      "Epoch: 265 lr: 0.000030; Average loss: 0.010368, Train accuracy: 0.996824, Val accuracy: 0.620000\n",
      "Epoch: 266 lr: 0.000030; Average loss: 0.012587, Train accuracy: 0.996118, Val accuracy: 0.620000\n",
      "Epoch: 267 lr: 0.000030; Average loss: 0.012727, Train accuracy: 0.995882, Val accuracy: 0.620000\n",
      "Epoch: 268 lr: 0.000030; Average loss: 0.011935, Train accuracy: 0.995882, Val accuracy: 0.612000\n",
      "Epoch: 269 lr: 0.000024; Average loss: 0.010091, Train accuracy: 0.996706, Val accuracy: 0.620000\n",
      "Epoch: 270 lr: 0.000024; Average loss: 0.012770, Train accuracy: 0.996118, Val accuracy: 0.620000\n",
      "Epoch: 271 lr: 0.000024; Average loss: 0.014171, Train accuracy: 0.995412, Val accuracy: 0.612000\n",
      "Epoch: 272 lr: 0.000024; Average loss: 0.012648, Train accuracy: 0.995059, Val accuracy: 0.618000\n",
      "Epoch: 273 lr: 0.000024; Average loss: 0.013090, Train accuracy: 0.996000, Val accuracy: 0.616000\n",
      "Epoch: 274 lr: 0.000024; Average loss: 0.010917, Train accuracy: 0.996471, Val accuracy: 0.614000\n",
      "Epoch: 275 lr: 0.000024; Average loss: 0.009937, Train accuracy: 0.997176, Val accuracy: 0.616000\n",
      "Epoch: 276 lr: 0.000024; Average loss: 0.011154, Train accuracy: 0.996353, Val accuracy: 0.620000\n",
      "Epoch: 277 lr: 0.000024; Average loss: 0.011223, Train accuracy: 0.996588, Val accuracy: 0.620000\n",
      "Epoch: 278 lr: 0.000024; Average loss: 0.012347, Train accuracy: 0.996118, Val accuracy: 0.620000\n",
      "Epoch: 279 lr: 0.000019; Average loss: 0.013774, Train accuracy: 0.996000, Val accuracy: 0.616000\n",
      "Epoch: 280 lr: 0.000019; Average loss: 0.013198, Train accuracy: 0.996235, Val accuracy: 0.614000\n",
      "Epoch: 281 lr: 0.000019; Average loss: 0.010221, Train accuracy: 0.996824, Val accuracy: 0.614000\n",
      "Epoch: 282 lr: 0.000019; Average loss: 0.011271, Train accuracy: 0.996471, Val accuracy: 0.616000\n",
      "Epoch: 283 lr: 0.000019; Average loss: 0.010787, Train accuracy: 0.996353, Val accuracy: 0.614000\n",
      "Epoch: 284 lr: 0.000019; Average loss: 0.012038, Train accuracy: 0.996588, Val accuracy: 0.616000\n",
      "Epoch: 285 lr: 0.000019; Average loss: 0.013497, Train accuracy: 0.995529, Val accuracy: 0.614000\n",
      "Epoch: 286 lr: 0.000019; Average loss: 0.010717, Train accuracy: 0.997294, Val accuracy: 0.622000\n",
      "Epoch: 287 lr: 0.000019; Average loss: 0.012788, Train accuracy: 0.995882, Val accuracy: 0.616000\n",
      "Epoch: 288 lr: 0.000019; Average loss: 0.009167, Train accuracy: 0.997882, Val accuracy: 0.614000\n",
      "Epoch: 289 lr: 0.000015; Average loss: 0.014161, Train accuracy: 0.995529, Val accuracy: 0.616000\n",
      "Epoch: 290 lr: 0.000015; Average loss: 0.012294, Train accuracy: 0.996235, Val accuracy: 0.612000\n",
      "Epoch: 291 lr: 0.000015; Average loss: 0.011527, Train accuracy: 0.995412, Val accuracy: 0.614000\n",
      "Epoch: 292 lr: 0.000015; Average loss: 0.009504, Train accuracy: 0.997059, Val accuracy: 0.616000\n",
      "Epoch: 293 lr: 0.000015; Average loss: 0.013202, Train accuracy: 0.995412, Val accuracy: 0.618000\n",
      "Epoch: 294 lr: 0.000015; Average loss: 0.012036, Train accuracy: 0.996000, Val accuracy: 0.614000\n",
      "Epoch: 295 lr: 0.000015; Average loss: 0.012335, Train accuracy: 0.995765, Val accuracy: 0.616000\n",
      "Epoch: 296 lr: 0.000015; Average loss: 0.009648, Train accuracy: 0.996588, Val accuracy: 0.618000\n",
      "Epoch: 297 lr: 0.000015; Average loss: 0.013794, Train accuracy: 0.994941, Val accuracy: 0.614000\n",
      "Epoch: 298 lr: 0.000015; Average loss: 0.011188, Train accuracy: 0.996471, Val accuracy: 0.618000\n",
      "Epoch: 299 lr: 0.000012; Average loss: 0.012804, Train accuracy: 0.995412, Val accuracy: 0.618000\n",
      "Epoch: 300 lr: 0.000012; Average loss: 0.011790, Train accuracy: 0.996706, Val accuracy: 0.616000\n",
      "Epoch: 301 lr: 0.000012; Average loss: 0.011074, Train accuracy: 0.996353, Val accuracy: 0.620000\n",
      "Epoch: 302 lr: 0.000012; Average loss: 0.009824, Train accuracy: 0.996471, Val accuracy: 0.618000\n",
      "Epoch: 303 lr: 0.000012; Average loss: 0.013463, Train accuracy: 0.995882, Val accuracy: 0.618000\n",
      "Epoch: 304 lr: 0.000012; Average loss: 0.011878, Train accuracy: 0.995647, Val accuracy: 0.618000\n",
      "Epoch: 305 lr: 0.000012; Average loss: 0.013855, Train accuracy: 0.995059, Val accuracy: 0.618000\n",
      "Epoch: 306 lr: 0.000012; Average loss: 0.012367, Train accuracy: 0.995529, Val accuracy: 0.620000\n",
      "Epoch: 307 lr: 0.000012; Average loss: 0.012472, Train accuracy: 0.995294, Val accuracy: 0.616000\n",
      "Epoch: 308 lr: 0.000012; Average loss: 0.011426, Train accuracy: 0.996824, Val accuracy: 0.618000\n",
      "Epoch: 309 lr: 0.000010; Average loss: 0.013416, Train accuracy: 0.995412, Val accuracy: 0.620000\n",
      "Epoch: 310 lr: 0.000010; Average loss: 0.008732, Train accuracy: 0.997529, Val accuracy: 0.620000\n",
      "Epoch: 311 lr: 0.000010; Average loss: 0.013128, Train accuracy: 0.996353, Val accuracy: 0.620000\n",
      "Epoch: 312 lr: 0.000010; Average loss: 0.010344, Train accuracy: 0.996588, Val accuracy: 0.610000\n",
      "Epoch: 313 lr: 0.000010; Average loss: 0.010228, Train accuracy: 0.996353, Val accuracy: 0.620000\n",
      "Epoch: 314 lr: 0.000010; Average loss: 0.012269, Train accuracy: 0.996353, Val accuracy: 0.620000\n",
      "Epoch: 315 lr: 0.000010; Average loss: 0.009790, Train accuracy: 0.997529, Val accuracy: 0.620000\n",
      "Epoch: 316 lr: 0.000010; Average loss: 0.010331, Train accuracy: 0.996824, Val accuracy: 0.616000\n",
      "Epoch: 317 lr: 0.000010; Average loss: 0.011475, Train accuracy: 0.996588, Val accuracy: 0.616000\n",
      "Epoch: 318 lr: 0.000010; Average loss: 0.013104, Train accuracy: 0.996000, Val accuracy: 0.616000\n",
      "Epoch: 319 lr: 0.000008; Average loss: 0.009307, Train accuracy: 0.997176, Val accuracy: 0.614000\n",
      "Epoch: 320 lr: 0.000008; Average loss: 0.011417, Train accuracy: 0.996000, Val accuracy: 0.616000\n",
      "Epoch: 321 lr: 0.000008; Average loss: 0.012816, Train accuracy: 0.995647, Val accuracy: 0.620000\n",
      "Epoch: 322 lr: 0.000008; Average loss: 0.015922, Train accuracy: 0.995059, Val accuracy: 0.616000\n",
      "Epoch: 323 lr: 0.000008; Average loss: 0.013698, Train accuracy: 0.996235, Val accuracy: 0.614000\n",
      "Epoch: 324 lr: 0.000008; Average loss: 0.010318, Train accuracy: 0.997059, Val accuracy: 0.618000\n",
      "Epoch: 325 lr: 0.000008; Average loss: 0.011366, Train accuracy: 0.996000, Val accuracy: 0.616000\n",
      "Epoch: 326 lr: 0.000008; Average loss: 0.012083, Train accuracy: 0.995529, Val accuracy: 0.616000\n",
      "Epoch: 327 lr: 0.000008; Average loss: 0.011307, Train accuracy: 0.997412, Val accuracy: 0.616000\n",
      "Epoch: 328 lr: 0.000008; Average loss: 0.011258, Train accuracy: 0.997059, Val accuracy: 0.618000\n",
      "Epoch: 329 lr: 0.000006; Average loss: 0.013089, Train accuracy: 0.995059, Val accuracy: 0.616000\n",
      "Epoch: 330 lr: 0.000006; Average loss: 0.011037, Train accuracy: 0.996235, Val accuracy: 0.616000\n",
      "Epoch: 331 lr: 0.000006; Average loss: 0.010864, Train accuracy: 0.996118, Val accuracy: 0.616000\n",
      "Epoch: 332 lr: 0.000006; Average loss: 0.010323, Train accuracy: 0.996471, Val accuracy: 0.618000\n"
     ]
    },
    {
     "name": "stdout",
     "output_type": "stream",
     "text": [
      "Epoch: 333 lr: 0.000006; Average loss: 0.011996, Train accuracy: 0.996353, Val accuracy: 0.620000\n",
      "Epoch: 334 lr: 0.000006; Average loss: 0.013262, Train accuracy: 0.995765, Val accuracy: 0.616000\n",
      "Epoch: 335 lr: 0.000006; Average loss: 0.013122, Train accuracy: 0.995765, Val accuracy: 0.614000\n",
      "Epoch: 336 lr: 0.000006; Average loss: 0.009678, Train accuracy: 0.997176, Val accuracy: 0.614000\n",
      "Epoch: 337 lr: 0.000006; Average loss: 0.011921, Train accuracy: 0.995882, Val accuracy: 0.616000\n",
      "Epoch: 338 lr: 0.000006; Average loss: 0.010275, Train accuracy: 0.996824, Val accuracy: 0.618000\n",
      "Epoch: 339 lr: 0.000005; Average loss: 0.013046, Train accuracy: 0.996118, Val accuracy: 0.614000\n",
      "Epoch: 340 lr: 0.000005; Average loss: 0.010061, Train accuracy: 0.996588, Val accuracy: 0.616000\n",
      "Epoch: 341 lr: 0.000005; Average loss: 0.010131, Train accuracy: 0.996941, Val accuracy: 0.614000\n",
      "Epoch: 342 lr: 0.000005; Average loss: 0.010437, Train accuracy: 0.996588, Val accuracy: 0.618000\n",
      "Epoch: 343 lr: 0.000005; Average loss: 0.012237, Train accuracy: 0.996000, Val accuracy: 0.612000\n",
      "Epoch: 344 lr: 0.000005; Average loss: 0.012137, Train accuracy: 0.995412, Val accuracy: 0.616000\n",
      "Epoch: 345 lr: 0.000005; Average loss: 0.010499, Train accuracy: 0.996353, Val accuracy: 0.616000\n",
      "Epoch: 346 lr: 0.000005; Average loss: 0.014199, Train accuracy: 0.994706, Val accuracy: 0.612000\n",
      "Epoch: 347 lr: 0.000005; Average loss: 0.010127, Train accuracy: 0.997882, Val accuracy: 0.618000\n",
      "Epoch: 348 lr: 0.000005; Average loss: 0.011095, Train accuracy: 0.996118, Val accuracy: 0.618000\n",
      "Epoch: 349 lr: 0.000004; Average loss: 0.009393, Train accuracy: 0.997059, Val accuracy: 0.612000\n",
      "Epoch: 350 lr: 0.000004; Average loss: 0.011105, Train accuracy: 0.996353, Val accuracy: 0.618000\n",
      "Epoch: 351 lr: 0.000004; Average loss: 0.012471, Train accuracy: 0.996118, Val accuracy: 0.620000\n",
      "Epoch: 352 lr: 0.000004; Average loss: 0.009284, Train accuracy: 0.996471, Val accuracy: 0.620000\n",
      "Epoch: 353 lr: 0.000004; Average loss: 0.010796, Train accuracy: 0.996824, Val accuracy: 0.618000\n",
      "Epoch: 354 lr: 0.000004; Average loss: 0.012700, Train accuracy: 0.995882, Val accuracy: 0.616000\n",
      "Epoch: 355 lr: 0.000004; Average loss: 0.012736, Train accuracy: 0.995529, Val accuracy: 0.614000\n",
      "Epoch: 356 lr: 0.000004; Average loss: 0.012113, Train accuracy: 0.995412, Val accuracy: 0.616000\n",
      "Epoch: 357 lr: 0.000004; Average loss: 0.010143, Train accuracy: 0.996824, Val accuracy: 0.614000\n",
      "Epoch: 358 lr: 0.000004; Average loss: 0.013329, Train accuracy: 0.995059, Val accuracy: 0.618000\n",
      "Epoch: 359 lr: 0.000003; Average loss: 0.007954, Train accuracy: 0.997765, Val accuracy: 0.620000\n",
      "Epoch: 360 lr: 0.000003; Average loss: 0.014014, Train accuracy: 0.995059, Val accuracy: 0.618000\n",
      "Epoch: 361 lr: 0.000003; Average loss: 0.011632, Train accuracy: 0.996235, Val accuracy: 0.620000\n",
      "Epoch: 362 lr: 0.000003; Average loss: 0.009807, Train accuracy: 0.996941, Val accuracy: 0.616000\n",
      "Epoch: 363 lr: 0.000003; Average loss: 0.011122, Train accuracy: 0.996588, Val accuracy: 0.616000\n",
      "Epoch: 364 lr: 0.000003; Average loss: 0.013544, Train accuracy: 0.995647, Val accuracy: 0.614000\n",
      "Epoch: 365 lr: 0.000003; Average loss: 0.010853, Train accuracy: 0.996824, Val accuracy: 0.620000\n",
      "Epoch: 366 lr: 0.000003; Average loss: 0.011334, Train accuracy: 0.996235, Val accuracy: 0.618000\n",
      "Epoch: 367 lr: 0.000003; Average loss: 0.010150, Train accuracy: 0.997059, Val accuracy: 0.616000\n",
      "Epoch: 368 lr: 0.000003; Average loss: 0.011424, Train accuracy: 0.996706, Val accuracy: 0.618000\n",
      "Epoch: 369 lr: 0.000003; Average loss: 0.010287, Train accuracy: 0.996471, Val accuracy: 0.618000\n",
      "Epoch: 370 lr: 0.000003; Average loss: 0.014835, Train accuracy: 0.995059, Val accuracy: 0.618000\n",
      "Epoch: 371 lr: 0.000003; Average loss: 0.011435, Train accuracy: 0.996118, Val accuracy: 0.618000\n",
      "Epoch: 372 lr: 0.000003; Average loss: 0.012061, Train accuracy: 0.995882, Val accuracy: 0.620000\n",
      "Epoch: 373 lr: 0.000003; Average loss: 0.013971, Train accuracy: 0.994706, Val accuracy: 0.620000\n",
      "Epoch: 374 lr: 0.000003; Average loss: 0.011779, Train accuracy: 0.995882, Val accuracy: 0.616000\n",
      "Epoch: 375 lr: 0.000003; Average loss: 0.010167, Train accuracy: 0.996941, Val accuracy: 0.618000\n",
      "Epoch: 376 lr: 0.000003; Average loss: 0.015202, Train accuracy: 0.994471, Val accuracy: 0.620000\n",
      "Epoch: 377 lr: 0.000003; Average loss: 0.011230, Train accuracy: 0.996824, Val accuracy: 0.618000\n",
      "Epoch: 378 lr: 0.000003; Average loss: 0.011589, Train accuracy: 0.996235, Val accuracy: 0.616000\n",
      "Epoch: 379 lr: 0.000002; Average loss: 0.012286, Train accuracy: 0.996941, Val accuracy: 0.618000\n",
      "Epoch: 380 lr: 0.000002; Average loss: 0.013771, Train accuracy: 0.994824, Val accuracy: 0.614000\n",
      "Epoch: 381 lr: 0.000002; Average loss: 0.012754, Train accuracy: 0.995176, Val accuracy: 0.616000\n",
      "Epoch: 382 lr: 0.000002; Average loss: 0.012539, Train accuracy: 0.995647, Val accuracy: 0.622000\n",
      "Epoch: 383 lr: 0.000002; Average loss: 0.009892, Train accuracy: 0.996588, Val accuracy: 0.618000\n",
      "Epoch: 384 lr: 0.000002; Average loss: 0.009636, Train accuracy: 0.996941, Val accuracy: 0.620000\n",
      "Epoch: 385 lr: 0.000002; Average loss: 0.010957, Train accuracy: 0.996118, Val accuracy: 0.616000\n",
      "Epoch: 386 lr: 0.000002; Average loss: 0.011691, Train accuracy: 0.995765, Val accuracy: 0.618000\n",
      "Epoch: 387 lr: 0.000002; Average loss: 0.012589, Train accuracy: 0.995765, Val accuracy: 0.620000\n",
      "Epoch: 388 lr: 0.000002; Average loss: 0.010464, Train accuracy: 0.996353, Val accuracy: 0.616000\n",
      "Epoch: 389 lr: 0.000002; Average loss: 0.013420, Train accuracy: 0.995765, Val accuracy: 0.616000\n",
      "Epoch: 390 lr: 0.000002; Average loss: 0.009057, Train accuracy: 0.996941, Val accuracy: 0.618000\n",
      "Epoch: 391 lr: 0.000002; Average loss: 0.012781, Train accuracy: 0.996588, Val accuracy: 0.618000\n",
      "Epoch: 392 lr: 0.000002; Average loss: 0.010176, Train accuracy: 0.996588, Val accuracy: 0.620000\n",
      "Epoch: 393 lr: 0.000002; Average loss: 0.011603, Train accuracy: 0.996588, Val accuracy: 0.616000\n",
      "Epoch: 394 lr: 0.000002; Average loss: 0.013988, Train accuracy: 0.995529, Val accuracy: 0.616000\n",
      "Epoch: 395 lr: 0.000002; Average loss: 0.011654, Train accuracy: 0.996588, Val accuracy: 0.620000\n",
      "Epoch: 396 lr: 0.000002; Average loss: 0.010242, Train accuracy: 0.996588, Val accuracy: 0.620000\n",
      "Epoch: 397 lr: 0.000002; Average loss: 0.008466, Train accuracy: 0.997647, Val accuracy: 0.618000\n",
      "Epoch: 398 lr: 0.000002; Average loss: 0.012346, Train accuracy: 0.995882, Val accuracy: 0.618000\n",
      "Epoch: 399 lr: 0.000001; Average loss: 0.008355, Train accuracy: 0.997529, Val accuracy: 0.618000\n",
      "Epoch: 400 lr: 0.000001; Average loss: 0.009354, Train accuracy: 0.997059, Val accuracy: 0.614000\n",
      "Epoch: 401 lr: 0.000001; Average loss: 0.012492, Train accuracy: 0.995412, Val accuracy: 0.614000\n",
      "Epoch: 402 lr: 0.000001; Average loss: 0.012644, Train accuracy: 0.995765, Val accuracy: 0.614000\n",
      "Epoch: 403 lr: 0.000001; Average loss: 0.011602, Train accuracy: 0.996353, Val accuracy: 0.616000\n",
      "Epoch: 404 lr: 0.000001; Average loss: 0.010255, Train accuracy: 0.996824, Val accuracy: 0.616000\n",
      "Epoch: 405 lr: 0.000001; Average loss: 0.011140, Train accuracy: 0.996471, Val accuracy: 0.620000\n",
      "Epoch: 406 lr: 0.000001; Average loss: 0.011189, Train accuracy: 0.996353, Val accuracy: 0.610000\n",
      "Epoch: 407 lr: 0.000001; Average loss: 0.010491, Train accuracy: 0.997412, Val accuracy: 0.618000\n",
      "Epoch: 408 lr: 0.000001; Average loss: 0.011632, Train accuracy: 0.995647, Val accuracy: 0.618000\n",
      "Epoch: 409 lr: 0.000001; Average loss: 0.013159, Train accuracy: 0.995765, Val accuracy: 0.614000\n",
      "Epoch: 410 lr: 0.000001; Average loss: 0.010222, Train accuracy: 0.997059, Val accuracy: 0.616000\n",
      "Epoch: 411 lr: 0.000001; Average loss: 0.008609, Train accuracy: 0.996824, Val accuracy: 0.614000\n",
      "Epoch: 412 lr: 0.000001; Average loss: 0.011493, Train accuracy: 0.995882, Val accuracy: 0.618000\n",
      "Epoch: 413 lr: 0.000001; Average loss: 0.010896, Train accuracy: 0.996706, Val accuracy: 0.618000\n",
      "Epoch: 414 lr: 0.000001; Average loss: 0.008700, Train accuracy: 0.997647, Val accuracy: 0.618000\n",
      "Epoch: 415 lr: 0.000001; Average loss: 0.013118, Train accuracy: 0.995765, Val accuracy: 0.618000\n",
      "Epoch: 416 lr: 0.000001; Average loss: 0.010103, Train accuracy: 0.996471, Val accuracy: 0.620000\n",
      "Epoch: 417 lr: 0.000001; Average loss: 0.011783, Train accuracy: 0.995529, Val accuracy: 0.618000\n"
     ]
    },
    {
     "name": "stdout",
     "output_type": "stream",
     "text": [
      "Epoch: 418 lr: 0.000001; Average loss: 0.012814, Train accuracy: 0.995176, Val accuracy: 0.618000\n",
      "Epoch: 419 lr: 0.000001; Average loss: 0.010603, Train accuracy: 0.997059, Val accuracy: 0.616000\n",
      "Epoch: 420 lr: 0.000001; Average loss: 0.013372, Train accuracy: 0.995412, Val accuracy: 0.616000\n",
      "Epoch: 421 lr: 0.000001; Average loss: 0.011559, Train accuracy: 0.995765, Val accuracy: 0.620000\n",
      "Epoch: 422 lr: 0.000001; Average loss: 0.011978, Train accuracy: 0.996353, Val accuracy: 0.614000\n",
      "Epoch: 423 lr: 0.000001; Average loss: 0.010678, Train accuracy: 0.996941, Val accuracy: 0.614000\n",
      "Epoch: 424 lr: 0.000001; Average loss: 0.012234, Train accuracy: 0.995059, Val accuracy: 0.618000\n",
      "Epoch: 425 lr: 0.000001; Average loss: 0.009188, Train accuracy: 0.996824, Val accuracy: 0.618000\n",
      "Epoch: 426 lr: 0.000001; Average loss: 0.011009, Train accuracy: 0.996235, Val accuracy: 0.618000\n",
      "Epoch: 427 lr: 0.000001; Average loss: 0.010414, Train accuracy: 0.996118, Val accuracy: 0.616000\n",
      "Epoch: 428 lr: 0.000001; Average loss: 0.013695, Train accuracy: 0.994471, Val accuracy: 0.618000\n",
      "Epoch: 429 lr: 0.000001; Average loss: 0.010977, Train accuracy: 0.995647, Val accuracy: 0.618000\n",
      "Epoch: 430 lr: 0.000001; Average loss: 0.012546, Train accuracy: 0.995647, Val accuracy: 0.620000\n",
      "Epoch: 431 lr: 0.000001; Average loss: 0.009769, Train accuracy: 0.997176, Val accuracy: 0.620000\n",
      "Epoch: 432 lr: 0.000001; Average loss: 0.012421, Train accuracy: 0.995882, Val accuracy: 0.616000\n",
      "Epoch: 433 lr: 0.000001; Average loss: 0.012813, Train accuracy: 0.995765, Val accuracy: 0.618000\n",
      "Epoch: 434 lr: 0.000001; Average loss: 0.013823, Train accuracy: 0.995059, Val accuracy: 0.616000\n",
      "Epoch: 435 lr: 0.000001; Average loss: 0.011968, Train accuracy: 0.996353, Val accuracy: 0.618000\n",
      "Epoch: 436 lr: 0.000001; Average loss: 0.011593, Train accuracy: 0.996353, Val accuracy: 0.616000\n",
      "Epoch: 437 lr: 0.000001; Average loss: 0.012583, Train accuracy: 0.995647, Val accuracy: 0.620000\n",
      "Epoch: 438 lr: 0.000001; Average loss: 0.011210, Train accuracy: 0.995647, Val accuracy: 0.618000\n",
      "Epoch: 439 lr: 0.000001; Average loss: 0.010655, Train accuracy: 0.996588, Val accuracy: 0.616000\n",
      "Epoch: 440 lr: 0.000001; Average loss: 0.011095, Train accuracy: 0.995765, Val accuracy: 0.614000\n",
      "Epoch: 441 lr: 0.000001; Average loss: 0.011258, Train accuracy: 0.995765, Val accuracy: 0.620000\n",
      "Epoch: 442 lr: 0.000001; Average loss: 0.012177, Train accuracy: 0.996235, Val accuracy: 0.614000\n",
      "Epoch: 443 lr: 0.000001; Average loss: 0.010163, Train accuracy: 0.996824, Val accuracy: 0.618000\n",
      "Epoch: 444 lr: 0.000001; Average loss: 0.009474, Train accuracy: 0.996941, Val accuracy: 0.620000\n",
      "Epoch: 445 lr: 0.000001; Average loss: 0.011072, Train accuracy: 0.996588, Val accuracy: 0.616000\n",
      "Epoch: 446 lr: 0.000001; Average loss: 0.013607, Train accuracy: 0.995765, Val accuracy: 0.620000\n",
      "Epoch: 447 lr: 0.000001; Average loss: 0.009676, Train accuracy: 0.996471, Val accuracy: 0.610000\n",
      "Epoch: 448 lr: 0.000001; Average loss: 0.012068, Train accuracy: 0.995529, Val accuracy: 0.618000\n",
      "Epoch: 449 lr: 0.000000; Average loss: 0.009141, Train accuracy: 0.997294, Val accuracy: 0.614000\n",
      "Epoch: 450 lr: 0.000000; Average loss: 0.010270, Train accuracy: 0.997059, Val accuracy: 0.618000\n",
      "Epoch: 451 lr: 0.000000; Average loss: 0.010838, Train accuracy: 0.996353, Val accuracy: 0.618000\n",
      "Epoch: 452 lr: 0.000000; Average loss: 0.011635, Train accuracy: 0.996471, Val accuracy: 0.620000\n",
      "Epoch: 453 lr: 0.000000; Average loss: 0.009963, Train accuracy: 0.996941, Val accuracy: 0.620000\n",
      "Epoch: 454 lr: 0.000000; Average loss: 0.010979, Train accuracy: 0.996471, Val accuracy: 0.620000\n",
      "Epoch: 455 lr: 0.000000; Average loss: 0.013191, Train accuracy: 0.995882, Val accuracy: 0.618000\n",
      "Epoch: 456 lr: 0.000000; Average loss: 0.014431, Train accuracy: 0.995882, Val accuracy: 0.616000\n",
      "Epoch: 457 lr: 0.000000; Average loss: 0.010080, Train accuracy: 0.996353, Val accuracy: 0.616000\n",
      "Epoch: 458 lr: 0.000000; Average loss: 0.015176, Train accuracy: 0.994824, Val accuracy: 0.616000\n",
      "Epoch: 459 lr: 0.000000; Average loss: 0.012832, Train accuracy: 0.996235, Val accuracy: 0.616000\n",
      "Epoch: 460 lr: 0.000000; Average loss: 0.011376, Train accuracy: 0.996941, Val accuracy: 0.616000\n",
      "Epoch: 461 lr: 0.000000; Average loss: 0.011741, Train accuracy: 0.996706, Val accuracy: 0.616000\n",
      "Epoch: 462 lr: 0.000000; Average loss: 0.011283, Train accuracy: 0.996000, Val accuracy: 0.616000\n",
      "Epoch: 463 lr: 0.000000; Average loss: 0.010254, Train accuracy: 0.996941, Val accuracy: 0.618000\n",
      "Epoch: 464 lr: 0.000000; Average loss: 0.008106, Train accuracy: 0.997647, Val accuracy: 0.618000\n",
      "Epoch: 465 lr: 0.000000; Average loss: 0.011802, Train accuracy: 0.995882, Val accuracy: 0.618000\n",
      "Epoch: 466 lr: 0.000000; Average loss: 0.013288, Train accuracy: 0.995529, Val accuracy: 0.618000\n",
      "Epoch: 467 lr: 0.000000; Average loss: 0.010224, Train accuracy: 0.996588, Val accuracy: 0.618000\n",
      "Epoch: 468 lr: 0.000000; Average loss: 0.012257, Train accuracy: 0.996000, Val accuracy: 0.616000\n",
      "Epoch: 469 lr: 0.000000; Average loss: 0.012509, Train accuracy: 0.996824, Val accuracy: 0.616000\n",
      "Epoch: 470 lr: 0.000000; Average loss: 0.010623, Train accuracy: 0.996353, Val accuracy: 0.616000\n",
      "Epoch: 471 lr: 0.000000; Average loss: 0.012182, Train accuracy: 0.995882, Val accuracy: 0.616000\n",
      "Epoch: 472 lr: 0.000000; Average loss: 0.010514, Train accuracy: 0.996235, Val accuracy: 0.620000\n",
      "Epoch: 473 lr: 0.000000; Average loss: 0.009230, Train accuracy: 0.997059, Val accuracy: 0.620000\n",
      "Epoch: 474 lr: 0.000000; Average loss: 0.010616, Train accuracy: 0.996118, Val accuracy: 0.620000\n",
      "Epoch: 475 lr: 0.000000; Average loss: 0.012024, Train accuracy: 0.996118, Val accuracy: 0.618000\n",
      "Epoch: 476 lr: 0.000000; Average loss: 0.010781, Train accuracy: 0.996235, Val accuracy: 0.614000\n",
      "Epoch: 477 lr: 0.000000; Average loss: 0.012479, Train accuracy: 0.995765, Val accuracy: 0.618000\n",
      "Epoch: 478 lr: 0.000000; Average loss: 0.009920, Train accuracy: 0.996471, Val accuracy: 0.618000\n",
      "Epoch: 479 lr: 0.000000; Average loss: 0.011685, Train accuracy: 0.995882, Val accuracy: 0.620000\n",
      "Epoch: 480 lr: 0.000000; Average loss: 0.010512, Train accuracy: 0.996118, Val accuracy: 0.616000\n",
      "Epoch: 481 lr: 0.000000; Average loss: 0.010257, Train accuracy: 0.996353, Val accuracy: 0.620000\n",
      "Epoch: 482 lr: 0.000000; Average loss: 0.011995, Train accuracy: 0.996471, Val accuracy: 0.620000\n",
      "Epoch: 483 lr: 0.000000; Average loss: 0.010436, Train accuracy: 0.996353, Val accuracy: 0.618000\n",
      "Epoch: 484 lr: 0.000000; Average loss: 0.011042, Train accuracy: 0.996000, Val accuracy: 0.618000\n",
      "Epoch: 485 lr: 0.000000; Average loss: 0.009961, Train accuracy: 0.996588, Val accuracy: 0.618000\n",
      "Epoch: 486 lr: 0.000000; Average loss: 0.008100, Train accuracy: 0.997882, Val accuracy: 0.618000\n",
      "Epoch: 487 lr: 0.000000; Average loss: 0.012202, Train accuracy: 0.996588, Val accuracy: 0.622000\n",
      "Epoch: 488 lr: 0.000000; Average loss: 0.008178, Train accuracy: 0.997529, Val accuracy: 0.620000\n",
      "Epoch: 489 lr: 0.000000; Average loss: 0.011051, Train accuracy: 0.996235, Val accuracy: 0.614000\n",
      "Epoch: 490 lr: 0.000000; Average loss: 0.011225, Train accuracy: 0.996706, Val accuracy: 0.618000\n",
      "Epoch: 491 lr: 0.000000; Average loss: 0.011900, Train accuracy: 0.995412, Val accuracy: 0.610000\n",
      "Epoch: 492 lr: 0.000000; Average loss: 0.009748, Train accuracy: 0.997059, Val accuracy: 0.616000\n",
      "Epoch: 493 lr: 0.000000; Average loss: 0.009628, Train accuracy: 0.996941, Val accuracy: 0.610000\n",
      "Epoch: 494 lr: 0.000000; Average loss: 0.011034, Train accuracy: 0.997294, Val accuracy: 0.616000\n",
      "Epoch: 495 lr: 0.000000; Average loss: 0.010161, Train accuracy: 0.996588, Val accuracy: 0.616000\n",
      "Epoch: 496 lr: 0.000000; Average loss: 0.009502, Train accuracy: 0.996706, Val accuracy: 0.618000\n",
      "Epoch: 497 lr: 0.000000; Average loss: 0.010507, Train accuracy: 0.996941, Val accuracy: 0.618000\n",
      "Epoch: 498 lr: 0.000000; Average loss: 0.012175, Train accuracy: 0.995529, Val accuracy: 0.620000\n",
      "Epoch: 499 lr: 0.000000; Average loss: 0.010910, Train accuracy: 0.996471, Val accuracy: 0.618000\n",
      "end!\n"
     ]
    }
   ],
   "source": [
    "#torch.manual_seed(0)# 0.666 0.706048\n",
    "torch.manual_seed(1024) #0.662 0.724256\n",
    "#torch.manual_seed(567)# 0.658 0.699472\n",
    "#torch.manual_seed(12) #0.656 0.7045600000000001\n",
    "#torch.manual_seed(2048) #0.678 0.7083360000000001\n",
    "#torch.manual_seed(1)# 0.678 0.716224\n",
    "#torch.manual_seed(215)\n",
    "\n",
    "shape = 256\n",
    "nn_model = nn.Sequential(\n",
    "            nn.Linear(input_shape, shape),\n",
    "            nn.Dropout(0.66),\n",
    "            nn.BatchNorm1d(shape),\n",
    "            nn.ReLU(inplace=True),    \n",
    "    \n",
    "            nn.Linear(shape, shape),\n",
    "            nn.Dropout(0.66),\n",
    "            nn.BatchNorm1d(shape),\n",
    "            nn.ReLU(inplace=True),    \n",
    "    \n",
    "            nn.Linear(shape, num_classes),\n",
    "            )\n",
    "\n",
    "print(nn_model)\n",
    "loss = nn.CrossEntropyLoss().cpu()\n",
    "optimizer = torch.optim.Adam(nn_model.parameters(), lr=1e-2)\n",
    "scheduler = torch.optim.lr_scheduler.StepLR(optimizer, step_size=10, gamma=0.8)\n",
    "\n",
    "loss_history, train_history, val_history, best_model_name = train_model(\n",
    "    nn_model, \n",
    "    DataLoader(features_train_dataset, batch_size=500),\n",
    "    DataLoader(features_val_dataset, batch_size=500),\n",
    "    loss, optimizer, 500, scheduler)\n",
    "print('end!')\n"
   ]
  },
  {
   "cell_type": "code",
   "execution_count": 34,
   "metadata": {},
   "outputs": [
    {
     "name": "stdout",
     "output_type": "stream",
     "text": [
      "best model: classifier_24_0.652.ckpt\n"
     ]
    }
   ],
   "source": [
    "print(\"best model:\", best_model_name)"
   ]
  },
  {
   "cell_type": "code",
   "execution_count": 35,
   "metadata": {},
   "outputs": [
    {
     "name": "stdout",
     "output_type": "stream",
     "text": [
      "Sequential(\n",
      "  (0): Linear(in_features=1024, out_features=256, bias=True)\n",
      "  (1): Dropout(p=0.66, inplace=False)\n",
      "  (2): BatchNorm1d(256, eps=1e-05, momentum=0.1, affine=True, track_running_stats=True)\n",
      "  (3): ReLU(inplace=True)\n",
      "  (4): Linear(in_features=256, out_features=256, bias=True)\n",
      "  (5): Dropout(p=0.66, inplace=False)\n",
      "  (6): BatchNorm1d(256, eps=1e-05, momentum=0.1, affine=True, track_running_stats=True)\n",
      "  (7): ReLU(inplace=True)\n",
      "  (8): Linear(in_features=256, out_features=2, bias=True)\n",
      ")\n"
     ]
    }
   ],
   "source": [
    "best_model = torch.load(open(best_model_name, 'rb'))\n",
    "print(best_model)"
   ]
  },
  {
   "cell_type": "code",
   "execution_count": 36,
   "metadata": {},
   "outputs": [
    {
     "name": "stdout",
     "output_type": "stream",
     "text": [
      "0.652\n",
      "0.676624\n"
     ]
    }
   ],
   "source": [
    "print(compute_accuracy(best_model, DataLoader(features_val_dataset, batch_size=500)))\n",
    "\n",
    "best_model.eval()\n",
    "for i_step, (x, y) in enumerate(DataLoader(features_val_dataset, batch_size=5000)):\n",
    "    prediction = best_model(x)\n",
    "    \n",
    "prediction = prediction[:,1].detach().numpy()\n",
    "\n",
    "auc_score = roc_auc_score(np.array([x.item() for x in labels_val]), prediction)\n",
    "print(auc_score)"
   ]
  },
  {
   "cell_type": "code",
   "execution_count": 37,
   "metadata": {},
   "outputs": [
    {
     "name": "stdout",
     "output_type": "stream",
     "text": [
      "0.676624\n"
     ]
    },
    {
     "data": {
      "image/png": "[encoded data removed]",
      "text/plain": [
       "<Figure size 432x288 with 1 Axes>"
      ]
     },
     "metadata": {
      "needs_background": "light"
     },
     "output_type": "display_data"
    }
   ],
   "source": [
    "fpr, tpr, thresh = roc_curve(labels_val, prediction, pos_label=1)\n",
    "\n",
    "random_probs = [0 for i in range(len(labels_val))]\n",
    "p_fpr, p_tpr, _ = roc_curve(labels_val, random_probs, pos_label=1)\n",
    "auc_score = roc_auc_score(labels_val, prediction)\n",
    "print(auc_score)\n",
    "\n",
    "plt.plot(fpr, tpr, linestyle='--',color='orange')\n",
    "plt.plot(p_fpr, p_tpr, linestyle='--', color='blue')\n",
    "plt.title('ROC Curve - Logistic Regression', fontsize=20)\n",
    "plt.xlabel('False Positive Rate', fontsize=18)\n",
    "plt.ylabel('True Positive rate',fontsize=18)\n",
    "\n",
    "plt.show();"
   ]
  }
 ],
 "metadata": {
  "kernelspec": {
   "display_name": "Python 3 (ipykernel)",
   "language": "python",
   "name": "python3"
  },
  "language_info": {
   "codemirror_mode": {
    "name": "ipython",
    "version": 3
   },
   "file_extension": ".py",
   "mimetype": "text/x-python",
   "name": "python",
   "nbconvert_exporter": "python",
   "pygments_lexer": "ipython3",
   "version": "3.9.7"
  }
 },
 "nbformat": 4,
 "nbformat_minor": 4
}
