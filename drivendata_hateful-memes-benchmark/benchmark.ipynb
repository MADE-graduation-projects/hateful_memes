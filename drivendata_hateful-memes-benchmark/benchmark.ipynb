{
 "cells": [
  {
   "cell_type": "code",
   "execution_count": 1,
   "metadata": {
    "colab": {},
    "colab_type": "code",
    "id": "3S1kkuUxPjCV"
   },
   "outputs": [],
   "source": [
    "%matplotlib inline\n",
    "\n",
    "import logging\n",
    "from pathlib import Path\n",
    "import tarfile\n",
    "import warnings\n",
    "\n",
    "import matplotlib.pyplot as plt\n",
    "import pandas as pd\n",
    "import pandas_path  # Path style access for pandas\n",
    "from tqdm import tqdm\n",
    "from pytorch_lightning.core.saving import save_hparams_to_yaml, load_hparams_from_yaml\n",
    "\n",
    "from PIL import Image\n",
    "\n",
    "import torch                    \n",
    "import torchvision\n",
    "\n",
    "import pytorch_lightning as pl\n",
    "\n",
    "# for the purposes of this post, we'll filter\n",
    "# much of the lovely logging info from our LightningModule\n",
    "warnings.filterwarnings(\"ignore\")\n",
    "logging.getLogger().setLevel(logging.WARNING)\n",
    "\n",
    "import os\n",
    "from sklearn.metrics import f1_score, accuracy_score, roc_auc_score, roc_curve, confusion_matrix\n",
    "\n",
    "\n",
    "from HatefulMemesDataset import HatefulMemesDataset\n",
    "from LanguageAndVisionConcat import LanguageAndVisionConcat\n",
    "from HatefulMemesModel import HatefulMemesModel"
   ]
  },
  {
   "cell_type": "code",
   "execution_count": 2,
   "metadata": {
    "colab": {},
    "colab_type": "code",
    "id": "hTKEtorDP6bL"
   },
   "outputs": [],
   "source": [
    "data_dir = '/media/alex/Storage/datasets/MADE/3_graduation/parthplc/archive/data/'\n",
    "\n",
    "output_path = \"model-outputs\"\n",
    "os.makedirs(output_path, exist_ok = True)\n",
    "\n",
    "config_yaml = output_path + '/hparams.yaml'\n",
    "\n",
    "train_path = data_dir + 'train.jsonl'\n",
    "dev_path = data_dir + 'dev.jsonl'\n",
    "\n",
    "train_samples_frame = pd.read_json(train_path, lines=True)"
   ]
  },
  {
   "cell_type": "code",
   "execution_count": null,
   "metadata": {},
   "outputs": [],
   "source": [
    "images = [\n",
    "    Image.open(\n",
    "        data_dir + train_samples_frame.loc[i, \"img\"]\n",
    "    ).convert(\"RGB\")\n",
    "    for i in range(5)\n",
    "]\n",
    "\n",
    "for image in images:\n",
    "    print(image.size)"
   ]
  },
  {
   "cell_type": "code",
   "execution_count": null,
   "metadata": {},
   "outputs": [],
   "source": [
    "# define a callable image_transform with Compose\n",
    "image_transform = torchvision.transforms.Compose(\n",
    "    [\n",
    "        torchvision.transforms.Resize(size=(224, 224)),\n",
    "        torchvision.transforms.ToTensor()\n",
    "    ]\n",
    ")\n",
    "\n",
    "# convert the images and prepare for visualization.\n",
    "tensor_img = torch.stack(\n",
    "    [image_transform(image) for image in images]\n",
    ")\n",
    "grid = torchvision.utils.make_grid(tensor_img)\n",
    "\n",
    "# plot\n",
    "plt.rcParams[\"figure.figsize\"] = (20, 5)\n",
    "plt.axis('off')\n",
    "_ = plt.imshow(grid.permute(1, 2, 0))"
   ]
  },
  {
   "cell_type": "code",
   "execution_count": null,
   "metadata": {},
   "outputs": [],
   "source": [
    "hparams = {    \n",
    "    # Required hparams\n",
    "    \"train_path\": train_path,\n",
    "    \"dev_path\": dev_path,\n",
    "    \"img_dir\": data_dir,\n",
    "    \n",
    "     #Optional hparams\n",
    "    \"embedding_dim\": 150,\n",
    "    \"language_feature_dim\": 300,\n",
    "    \"vision_feature_dim\": 300,\n",
    "    \"fusion_output_size\": 256,  \n",
    "    \n",
    "    \"output_path\": output_path,\n",
    "    \"dev_limit\": None,\n",
    "    \"lr\": 0.00005,\n",
    "    \"min_epochs\": 20,\n",
    "    \"max_epochs\": -1,\n",
    "    \"n_gpu\": 1,\n",
    "    \"batch_size\": 4,\n",
    "    # allows us to \"simulate\" having larger batches \n",
    "    \"accumulate_grad_batches\": 16,\n",
    "    \"early_stop_patience\": 3,\n",
    "}\n",
    "\n",
    "save_hparams_to_yaml(config_yaml=config_yaml, hparams=hparams)"
   ]
  },
  {
   "cell_type": "code",
   "execution_count": null,
   "metadata": {
    "scrolled": false
   },
   "outputs": [],
   "source": [
    "hateful_memes_model = HatefulMemesModel(hparams=hparams)\n",
    "hateful_memes_model.fit()"
   ]
  },
  {
   "cell_type": "code",
   "execution_count": null,
   "metadata": {},
   "outputs": [],
   "source": [
    "assert False"
   ]
  },
  {
   "cell_type": "code",
   "execution_count": null,
   "metadata": {},
   "outputs": [],
   "source": []
  },
  {
   "cell_type": "code",
   "execution_count": 3,
   "metadata": {},
   "outputs": [
    {
     "data": {
      "text/plain": [
       "{'accumulate_grad_batches': 16,\n",
       " 'batch_size': 4,\n",
       " 'dev_limit': None,\n",
       " 'dev_path': '/media/alex/Storage/datasets/MADE/3_graduation/parthplc/archive/data/dev.jsonl',\n",
       " 'early_stop_patience': 3,\n",
       " 'embedding_dim': 150,\n",
       " 'fusion_output_size': 256,\n",
       " 'img_dir': '/media/alex/Storage/datasets/MADE/3_graduation/parthplc/archive/data/',\n",
       " 'language_feature_dim': 300,\n",
       " 'lr': 5e-05,\n",
       " 'max_epochs': -1,\n",
       " 'min_epochs': 20,\n",
       " 'n_gpu': 1,\n",
       " 'output_path': 'model-outputs',\n",
       " 'train_path': '/media/alex/Storage/datasets/MADE/3_graduation/parthplc/archive/data/train.jsonl',\n",
       " 'vision_feature_dim': 300}"
      ]
     },
     "execution_count": 3,
     "metadata": {},
     "output_type": "execute_result"
    }
   ],
   "source": [
    "loaded_hparams = load_hparams_from_yaml(config_yaml=config_yaml)\n",
    "loaded_hparams"
   ]
  },
  {
   "cell_type": "code",
   "execution_count": 5,
   "metadata": {},
   "outputs": [
    {
     "name": "stderr",
     "output_type": "stream",
     "text": [
      "Read 0M words\n",
      "Number of words:  2262\n",
      "Number of labels: 0\n",
      "Progress: 100.0% words/sec/thread:  118331 lr:  0.000000 avg.loss:  3.013168 ETA:   0h 0m 0s\n"
     ]
    }
   ],
   "source": [
    "hateful_memes_model = HatefulMemesModel.load_from_checkpoint(\n",
    "    #'/media/alex/Storage/coding/MADE-graduation-projects/hateful_memes/drivendata_hateful-memes-benchmark/model-outputs/lightning_logs/version_0/checkpoints/epoch=0-step=96.ckpt',\n",
    "    '/media/alex/Storage/coding/MADE-graduation-projects/hateful_memes/drivendata_hateful-memes-benchmark/model-outputs_v1/lightning_logs/version_0/checkpoints/epoch=2-step=288.ckpt',\n",
    "    hparams=loaded_hparams#'hparams.yaml'\n",
    "    #checkpoints[0]\n",
    ")"
   ]
  },
  {
   "cell_type": "code",
   "execution_count": 6,
   "metadata": {},
   "outputs": [
    {
     "name": "stderr",
     "output_type": "stream",
     "text": [
      "100%|█████████████████████████████████████████████████████████████████████████████| 125/125 [00:30<00:00,  4.15it/s]\n"
     ]
    },
    {
     "data": {
      "text/html": [
       "<div>\n",
       "<style scoped>\n",
       "    .dataframe tbody tr th:only-of-type {\n",
       "        vertical-align: middle;\n",
       "    }\n",
       "\n",
       "    .dataframe tbody tr th {\n",
       "        vertical-align: top;\n",
       "    }\n",
       "\n",
       "    .dataframe thead th {\n",
       "        text-align: right;\n",
       "    }\n",
       "</style>\n",
       "<table border=\"1\" class=\"dataframe\">\n",
       "  <thead>\n",
       "    <tr style=\"text-align: right;\">\n",
       "      <th></th>\n",
       "      <th>proba</th>\n",
       "      <th>label</th>\n",
       "    </tr>\n",
       "    <tr>\n",
       "      <th>id</th>\n",
       "      <th></th>\n",
       "      <th></th>\n",
       "    </tr>\n",
       "  </thead>\n",
       "  <tbody>\n",
       "    <tr>\n",
       "      <th>8291</th>\n",
       "      <td>0.033967</td>\n",
       "      <td>0</td>\n",
       "    </tr>\n",
       "    <tr>\n",
       "      <th>46971</th>\n",
       "      <td>0.394693</td>\n",
       "      <td>0</td>\n",
       "    </tr>\n",
       "    <tr>\n",
       "      <th>3745</th>\n",
       "      <td>0.016486</td>\n",
       "      <td>0</td>\n",
       "    </tr>\n",
       "    <tr>\n",
       "      <th>83745</th>\n",
       "      <td>0.986041</td>\n",
       "      <td>1</td>\n",
       "    </tr>\n",
       "    <tr>\n",
       "      <th>80243</th>\n",
       "      <td>0.983324</td>\n",
       "      <td>1</td>\n",
       "    </tr>\n",
       "  </tbody>\n",
       "</table>\n",
       "</div>"
      ],
      "text/plain": [
       "          proba  label\n",
       "id                    \n",
       "8291   0.033967      0\n",
       "46971  0.394693      0\n",
       "3745   0.016486      0\n",
       "83745  0.986041      1\n",
       "80243  0.983324      1"
      ]
     },
     "execution_count": 6,
     "metadata": {},
     "output_type": "execute_result"
    }
   ],
   "source": [
    "submission = hateful_memes_model.make_submission_frame(dev_path)\n",
    "submission.head()"
   ]
  },
  {
   "cell_type": "code",
   "execution_count": null,
   "metadata": {},
   "outputs": [],
   "source": []
  },
  {
   "cell_type": "code",
   "execution_count": 7,
   "metadata": {},
   "outputs": [
    {
     "data": {
      "text/html": [
       "<div>\n",
       "<style scoped>\n",
       "    .dataframe tbody tr th:only-of-type {\n",
       "        vertical-align: middle;\n",
       "    }\n",
       "\n",
       "    .dataframe tbody tr th {\n",
       "        vertical-align: top;\n",
       "    }\n",
       "\n",
       "    .dataframe thead th {\n",
       "        text-align: right;\n",
       "    }\n",
       "</style>\n",
       "<table border=\"1\" class=\"dataframe\">\n",
       "  <thead>\n",
       "    <tr style=\"text-align: right;\">\n",
       "      <th></th>\n",
       "      <th>id</th>\n",
       "      <th>img</th>\n",
       "      <th>label</th>\n",
       "      <th>text</th>\n",
       "    </tr>\n",
       "  </thead>\n",
       "  <tbody>\n",
       "    <tr>\n",
       "      <th>0</th>\n",
       "      <td>8291</td>\n",
       "      <td>img/08291.png</td>\n",
       "      <td>1</td>\n",
       "      <td>white people is this a shooting range</td>\n",
       "    </tr>\n",
       "    <tr>\n",
       "      <th>1</th>\n",
       "      <td>46971</td>\n",
       "      <td>img/46971.png</td>\n",
       "      <td>1</td>\n",
       "      <td>bravery at its finest</td>\n",
       "    </tr>\n",
       "    <tr>\n",
       "      <th>2</th>\n",
       "      <td>3745</td>\n",
       "      <td>img/03745.png</td>\n",
       "      <td>1</td>\n",
       "      <td>your order comes to $37.50 and your white priv...</td>\n",
       "    </tr>\n",
       "    <tr>\n",
       "      <th>3</th>\n",
       "      <td>83745</td>\n",
       "      <td>img/83745.png</td>\n",
       "      <td>1</td>\n",
       "      <td>it is time.. to send these parasites back to t...</td>\n",
       "    </tr>\n",
       "    <tr>\n",
       "      <th>4</th>\n",
       "      <td>80243</td>\n",
       "      <td>img/80243.png</td>\n",
       "      <td>1</td>\n",
       "      <td>mississippi wind chime</td>\n",
       "    </tr>\n",
       "  </tbody>\n",
       "</table>\n",
       "</div>"
      ],
      "text/plain": [
       "      id            img  label  \\\n",
       "0   8291  img/08291.png      1   \n",
       "1  46971  img/46971.png      1   \n",
       "2   3745  img/03745.png      1   \n",
       "3  83745  img/83745.png      1   \n",
       "4  80243  img/80243.png      1   \n",
       "\n",
       "                                                text  \n",
       "0              white people is this a shooting range  \n",
       "1                              bravery at its finest  \n",
       "2  your order comes to $37.50 and your white priv...  \n",
       "3  it is time.. to send these parasites back to t...  \n",
       "4                             mississippi wind chime  "
      ]
     },
     "execution_count": 7,
     "metadata": {},
     "output_type": "execute_result"
    }
   ],
   "source": [
    "test_data = pd.read_json(dev_path, lines=True)\n",
    "test_data.head()"
   ]
  },
  {
   "cell_type": "code",
   "execution_count": 8,
   "metadata": {},
   "outputs": [
    {
     "name": "stdout",
     "output_type": "stream",
     "text": [
      "0.552 0.5531011045029737\n"
     ]
    }
   ],
   "source": [
    "acc_score = accuracy_score(submission.label.values, test_data.label.values)\n",
    "auc_score = roc_auc_score(submission.label.values, test_data.label.values)\n",
    "    \n",
    "print(acc_score, auc_score)"
   ]
  }
 ],
 "metadata": {
  "accelerator": "GPU",
  "colab": {
   "authorship_tag": "ABX9TyN4d+XdyFhfbmSJur8LeCD4",
   "collapsed_sections": [],
   "name": "Untitled1.ipynb",
   "private_outputs": true,
   "provenance": []
  },
  "kernelspec": {
   "display_name": "Python 3 (ipykernel)",
   "language": "python",
   "name": "python3"
  },
  "language_info": {
   "codemirror_mode": {
    "name": "ipython",
    "version": 3
   },
   "file_extension": ".py",
   "mimetype": "text/x-python",
   "name": "python",
   "nbconvert_exporter": "python",
   "pygments_lexer": "ipython3",
   "version": "3.9.13"
  }
 },
 "nbformat": 4,
 "nbformat_minor": 1
}
