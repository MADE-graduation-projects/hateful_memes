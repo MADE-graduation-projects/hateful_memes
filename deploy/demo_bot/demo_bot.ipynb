{
 "cells": [
  {
   "cell_type": "code",
   "execution_count": 1,
   "metadata": {},
   "outputs": [],
   "source": [
    "#!pip install pyTelegramBotAPI"
   ]
  },
  {
   "cell_type": "code",
   "execution_count": 17,
   "metadata": {},
   "outputs": [],
   "source": [
    "import telebot\n",
    "import time\n",
    "import requests\n",
    "import datetime\n",
    "from PIL import Image\n",
    "import pickle"
   ]
  },
  {
   "cell_type": "code",
   "execution_count": null,
   "metadata": {},
   "outputs": [],
   "source": []
  },
  {
   "cell_type": "code",
   "execution_count": 3,
   "metadata": {},
   "outputs": [],
   "source": [
    "msg = None"
   ]
  },
  {
   "cell_type": "code",
   "execution_count": 2,
   "metadata": {},
   "outputs": [],
   "source": [
    "url_ocr = 'http://127.0.0.1:8000/upload'\n",
    "url_predict = 'http://127.0.0.1:8000/upload'  "
   ]
  },
  {
   "cell_type": "code",
   "execution_count": null,
   "metadata": {},
   "outputs": [
    {
     "name": "stdout",
     "output_type": "stream",
     "text": [
      "in 192193316 None\n",
      "photos/file_0.jpg\n",
      "20.12.2022_00.46.48.126988\n",
      "saved\n",
      "Идеального кольца не суще: .\n",
      "in 192193316 None\n",
      "photos/file_4.jpg\n",
      "20.12.2022_00.50.10.490180\n",
      "saved\n",
      "Когда-нибудь я приду на свадьбу своих детей, откажусь есть то, что они подадут, и потребую наггетсы и чипсы: 16.23\n"
     ]
    }
   ],
   "source": [
    "bot = telebot.TeleBot('5838296860:AAG8UTY2WVmQ2TDGX6LjWN65cZTYCOGabGI')\n",
    "\n",
    "\n",
    "@bot.message_handler(commands=[\"start\"])\n",
    "def handle_start(message):\n",
    "    bot.send_message(message.from_user.id, \"Отправьте, пожалуйста картинку\")\n",
    "\n",
    "\n",
    "@bot.message_handler(content_types=[\"text\", \"photo\"])\n",
    "def handle_photo(message):\n",
    "    chat_id = message.from_user.id\n",
    "    print('in', chat_id, message.text)\n",
    "    #print(message)\n",
    "    #global msg\n",
    "    #msg = message\n",
    "    if message.photo is None:\n",
    "        bot.send_message(message.from_user.id, \"Отправьте, пожалуйста картинку\")   \n",
    "    else:\n",
    "        #print(len(message.photo))\n",
    "        fileID = message.photo[-1].file_id   \n",
    "        file_info = bot.get_file(fileID)\n",
    "        \n",
    "\n",
    "        print(file_info.file_path)\n",
    "        \n",
    "        downloaded_file = bot.download_file(file_info.file_path)\n",
    "        filename = datetime.datetime.now().strftime(\"%d.%m.%Y_%H.%M.%S.%f\")\n",
    "        print(filename)\n",
    "        with open(f'{filename}.png', 'wb') as f:\n",
    "            f.write(downloaded_file)\n",
    "        print('saved')\n",
    "        with open(f'{filename}.png', 'rb') as f:\n",
    "            resp = requests.post(url=url_ocr, files={'file': f})\n",
    "        \n",
    "        text = resp.json()['message']\n",
    "        print(text)\n",
    "        img = Image.open(f'{filename}.png')\n",
    "        \n",
    "        with open(f'{filename}.pkl', 'wb') as f:\n",
    "            pickle.dump((img, text), f)\n",
    "\n",
    "        with open(f'{filename}.pkl', 'rb') as f:\n",
    "            resp = requests.post(url=url_predict, files={'file': f})\n",
    "        result = f'{text}\\n{resp.json()[\"message\"]}'\n",
    "        \n",
    "        print(resp.json()[\"message\"])\n",
    "        \n",
    "        bot.send_message(message.from_user.id, result)\n",
    "             \n",
    "\n",
    "    #print('out', chat_id, message.text)\n",
    "    \n",
    "    \n",
    "bot.infinity_polling()"
   ]
  },
  {
   "cell_type": "code",
   "execution_count": null,
   "metadata": {},
   "outputs": [],
   "source": []
  },
  {
   "cell_type": "code",
   "execution_count": null,
   "metadata": {},
   "outputs": [],
   "source": []
  }
 ],
 "metadata": {
  "kernelspec": {
   "display_name": "Python 3 (ipykernel)",
   "language": "python",
   "name": "python3"
  },
  "language_info": {
   "codemirror_mode": {
    "name": "ipython",
    "version": 3
   },
   "file_extension": ".py",
   "mimetype": "text/x-python",
   "name": "python",
   "nbconvert_exporter": "python",
   "pygments_lexer": "ipython3",
   "version": "3.8.8"
  }
 },
 "nbformat": 4,
 "nbformat_minor": 4
}
