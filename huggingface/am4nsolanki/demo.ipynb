{
 "cells": [
  {
   "cell_type": "code",
   "execution_count": 6,
   "metadata": {},
   "outputs": [],
   "source": [
    "import numpy as np\n",
    "import matplotlib.pyplot as plt\n",
    "from progressbar import ProgressBar\n",
    "import matplotlib.image as mpimg\n",
    "import tensorflow as tf\n",
    "from tensorflow.keras.preprocessing.image import img_to_array, load_img\n"
   ]
  },
  {
   "cell_type": "code",
   "execution_count": null,
   "metadata": {},
   "outputs": [],
   "source": []
  },
  {
   "cell_type": "code",
   "execution_count": 7,
   "metadata": {},
   "outputs": [],
   "source": [
    "\n",
    "\n",
    "def get_image_arrays(image_column, image_path):\n",
    "    progressBar = ProgressBar()\n",
    "    X = []\n",
    "\n",
    "    for image_id in progressBar(image_column.values):\n",
    "        image = load_img(image_path + image_id, target_size=(224, 224))\n",
    "        image_array = img_to_array(image)\n",
    "\n",
    "        X.append(image_array)\n",
    "\n",
    "    X_array = np.asarray(X, dtype='float32')\n",
    "    X_array /= 255.\n",
    "\n",
    "    return X_array\n",
    "\n",
    "\n",
    "def get_image_predictions(image_array, model_path):\n",
    "    # Load the TFLite model and allocate tensors.\n",
    "    interpreter = tf.lite.Interpreter(model_path=model_path)\n",
    "    interpreter.allocate_tensors()\n",
    "\n",
    "    # Get input and output tensors.\n",
    "    input_details = interpreter.get_input_details()\n",
    "    output_details = interpreter.get_output_details()\n",
    "\n",
    "    # Test the model on random input data.\n",
    "    input_shape = input_details[0]['shape']\n",
    "    input_data = image_array\n",
    "    interpreter.set_tensor(input_details[0]['index'], input_data)\n",
    "\n",
    "    interpreter.invoke()\n",
    "\n",
    "    # The function `get_tensor()` returns a copy of the tensor data.\n",
    "    # Use `tensor()` in order to get a pointer to the tensor.\n",
    "    output_data = interpreter.get_tensor(output_details[0]['index'])\n",
    "\n",
    "    return output_data\n",
    "\n",
    "\n",
    "def show_image(image_id, image_path):\n",
    "    image_id_dict = dict(image_id).values()\n",
    "    image_id_string = list(image_id_dict)[0]\n",
    "    img = mpimg.imread(image_path + image_id_string)\n",
    "    plt.imshow(img, interpolation='nearest', aspect='auto')\n",
    "    plt.show()\n"
   ]
  },
  {
   "cell_type": "code",
   "execution_count": 10,
   "metadata": {},
   "outputs": [],
   "source": [
    "\n",
    "import pandas as pd\n",
    "import numpy as np\n",
    "import pickle\n"
   ]
  },
  {
   "cell_type": "code",
   "execution_count": 11,
   "metadata": {},
   "outputs": [],
   "source": [
    "data_dir = r'E:\\datasets\\MADE\\3_graduation\\parthplc\\archive\\data\\\\'\n",
    "\n",
    "train_path = data_dir + 'train.jsonl'\n",
    "dev_path = data_dir + 'dev.jsonl'\n",
    "\n",
    "\n",
    "train_data = pd.read_json(train_path, lines=True)\n",
    "test_data = pd.read_json(dev_path, lines=True)\n",
    "demo_data = pd.read_json(dev_path, lines=True)"
   ]
  },
  {
   "cell_type": "code",
   "execution_count": 13,
   "metadata": {},
   "outputs": [
    {
     "data": {
      "text/html": [
       "<div>\n",
       "<style scoped>\n",
       "    .dataframe tbody tr th:only-of-type {\n",
       "        vertical-align: middle;\n",
       "    }\n",
       "\n",
       "    .dataframe tbody tr th {\n",
       "        vertical-align: top;\n",
       "    }\n",
       "\n",
       "    .dataframe thead th {\n",
       "        text-align: right;\n",
       "    }\n",
       "</style>\n",
       "<table border=\"1\" class=\"dataframe\">\n",
       "  <thead>\n",
       "    <tr style=\"text-align: right;\">\n",
       "      <th></th>\n",
       "      <th>id</th>\n",
       "      <th>img</th>\n",
       "      <th>label</th>\n",
       "      <th>text</th>\n",
       "    </tr>\n",
       "  </thead>\n",
       "  <tbody>\n",
       "    <tr>\n",
       "      <th>144</th>\n",
       "      <td>28951</td>\n",
       "      <td>img/28951.png</td>\n",
       "      <td>0</td>\n",
       "      <td>if the brim of your hat is flat and has a stic...</td>\n",
       "    </tr>\n",
       "  </tbody>\n",
       "</table>\n",
       "</div>"
      ],
      "text/plain": [
       "        id            img  label  \\\n",
       "144  28951  img/28951.png      0   \n",
       "\n",
       "                                                  text  \n",
       "144  if the brim of your hat is flat and has a stic...  "
      ]
     },
     "execution_count": 13,
     "metadata": {},
     "output_type": "execute_result"
    }
   ],
   "source": [
    "demo_data.head(3)"
   ]
  },
  {
   "cell_type": "code",
   "execution_count": 15,
   "metadata": {},
   "outputs": [],
   "source": [
    "TFLITE_FILE_PATH = 'image_model.tflite'\n",
    "\n",
    "demo_data = demo_data.sample(1)\n",
    "y_true = demo_data['label']\n",
    "image_id = demo_data['img']\n",
    "text = demo_data['text']\n",
    "\n",
    "image_id_dict = dict(image_id).values()\n",
    "image_id_string = list(image_id_dict)[0]"
   ]
  },
  {
   "cell_type": "code",
   "execution_count": 18,
   "metadata": {},
   "outputs": [
    {
     "name": "stderr",
     "output_type": "stream",
     "text": [
      "100% |########################################################################|\r"
     ]
    },
    {
     "name": "stdout",
     "output_type": "stream",
     "text": [
      "Image Prediction Probabilities:\n",
      "[[0.5786022 0.4380305]]\n"
     ]
    },
    {
     "name": "stderr",
     "output_type": "stream",
     "text": [
      "\n"
     ]
    }
   ],
   "source": [
    "\n",
    "image_array = get_image_arrays(image_id, data_dir)\n",
    "image_prediction = get_image_predictions(image_array, TFLITE_FILE_PATH)\n",
    "y_pred_image = np.argmax(image_prediction, axis=1)\n",
    "print('Image Prediction Probabilities:')\n",
    "print(image_prediction)"
   ]
  },
  {
   "cell_type": "code",
   "execution_count": null,
   "metadata": {},
   "outputs": [],
   "source": []
  },
  {
   "cell_type": "code",
   "execution_count": 21,
   "metadata": {},
   "outputs": [
    {
     "name": "stdout",
     "output_type": "stream",
     "text": [
      "Text Prediction Probabilities:\n",
      "[[0.67821008 0.32178992]]\n"
     ]
    },
    {
     "name": "stderr",
     "output_type": "stream",
     "text": [
      "C:\\ProgramData\\Anaconda3\\envs\\torchvision\\lib\\site-packages\\sklearn\\base.py:329: UserWarning: Trying to unpickle estimator LabelEncoder from version 1.0.1 when using version 1.1.1. This might lead to breaking code or invalid results. Use at your own risk. For more info please refer to:\n",
      "https://scikit-learn.org/stable/model_persistence.html#security-maintainability-limitations\n",
      "  warnings.warn(\n",
      "C:\\Temp\\ipykernel_16120\\2877553836.py:5: DeprecationWarning: Please use `csr_matrix` from the `scipy.sparse` namespace, the `scipy.sparse.csr` namespace is deprecated.\n",
      "  tfidf_vectorizer = pickle.load(open(vectorizer, 'rb'))\n",
      "C:\\ProgramData\\Anaconda3\\envs\\torchvision\\lib\\site-packages\\sklearn\\base.py:329: UserWarning: Trying to unpickle estimator TfidfTransformer from version 1.0.1 when using version 1.1.1. This might lead to breaking code or invalid results. Use at your own risk. For more info please refer to:\n",
      "https://scikit-learn.org/stable/model_persistence.html#security-maintainability-limitations\n",
      "  warnings.warn(\n",
      "C:\\ProgramData\\Anaconda3\\envs\\torchvision\\lib\\site-packages\\sklearn\\base.py:329: UserWarning: Trying to unpickle estimator TfidfVectorizer from version 1.0.1 when using version 1.1.1. This might lead to breaking code or invalid results. Use at your own risk. For more info please refer to:\n",
      "https://scikit-learn.org/stable/model_persistence.html#security-maintainability-limitations\n",
      "  warnings.warn(\n"
     ]
    }
   ],
   "source": [
    "# TFIDF Model\n",
    "model = 'tfidf_model.pickle'\n",
    "vectorizer = 'tfidf_vectorizer.pickle'\n",
    "tfidf_model = pickle.load(open(model, 'rb'))\n",
    "tfidf_vectorizer = pickle.load(open(vectorizer, 'rb'))\n",
    "transformed_text = tfidf_vectorizer.transform(text)\n",
    "text_prediction = tfidf_model.predict_proba(transformed_text)\n",
    "y_pred_text = np.argmax(text_prediction, axis=1)\n",
    "print('Text Prediction Probabilities:')\n",
    "print(text_prediction)\n"
   ]
  },
  {
   "cell_type": "code",
   "execution_count": 22,
   "metadata": {},
   "outputs": [
    {
     "name": "stdout",
     "output_type": "stream",
     "text": [
      "[[0.62840614 0.37991022]]\n"
     ]
    }
   ],
   "source": [
    "# Ensemble Probabilities\n",
    "ensemble_prediction = np.mean(np.array([image_prediction, text_prediction]), axis=0)\n",
    "y_pred_ensemble = np.argmax(ensemble_prediction, axis=1)\n",
    "print(ensemble_prediction)"
   ]
  },
  {
   "cell_type": "code",
   "execution_count": 23,
   "metadata": {},
   "outputs": [
    {
     "name": "stdout",
     "output_type": "stream",
     "text": [
      "True Label: non-hateful\n",
      "Predicted Label: non-hateful\n"
     ]
    }
   ],
   "source": [
    "\n",
    "true_label = list(dict(y_true).values())[0]\n",
    "predicted_label = y_pred_ensemble[0]\n",
    "\n",
    "if true_label == 0:\n",
    "    print('True Label: non-hateful')\n",
    "if true_label == 1:\n",
    "    print('True Label: hateful')\n",
    "\n",
    "if predicted_label == 0:\n",
    "    print('Predicted Label: non-hateful')\n",
    "if predicted_label == 1:\n",
    "    print('Predicted Label: hateful')\n"
   ]
  }
 ],
 "metadata": {
  "accelerator": "GPU",
  "colab": {
   "collapsed_sections": [],
   "provenance": [],
   "toc_visible": true
  },
  "kernelspec": {
   "display_name": "Python 3 (ipykernel)",
   "language": "python",
   "name": "python3"
  },
  "language_info": {
   "codemirror_mode": {
    "name": "ipython",
    "version": 3
   },
   "file_extension": ".py",
   "mimetype": "text/x-python",
   "name": "python",
   "nbconvert_exporter": "python",
   "pygments_lexer": "ipython3",
   "version": "3.10.4"
  }
 },
 "nbformat": 4,
 "nbformat_minor": 1
}
