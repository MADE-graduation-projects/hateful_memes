{
 "cells": [
  {
   "cell_type": "code",
   "execution_count": 1,
   "metadata": {},
   "outputs": [],
   "source": [
    "import numpy as np\n",
    "import matplotlib.pyplot as plt\n",
    "import matplotlib.image as mpimg\n",
    "import tensorflow as tf\n",
    "from tensorflow.keras.preprocessing.image import img_to_array, load_img\n"
   ]
  },
  {
   "cell_type": "code",
   "execution_count": null,
   "metadata": {},
   "outputs": [],
   "source": []
  },
  {
   "cell_type": "code",
   "execution_count": 2,
   "metadata": {},
   "outputs": [],
   "source": [
    "def get_image_arrays(image_id, image_path):\n",
    "    X = []\n",
    "    image = load_img(image_path + image_id, target_size=(224, 224))\n",
    "    image_array = img_to_array(image)\n",
    "\n",
    "    X.append(image_array)\n",
    "\n",
    "    X_array = np.asarray(X, dtype='float32')\n",
    "    X_array /= 255.\n",
    "\n",
    "    return X_array\n",
    "\n",
    "\n",
    "def get_image_predictions(image_array, model_path):\n",
    "    # Load the TFLite model and allocate tensors.\n",
    "    interpreter = tf.lite.Interpreter(model_path=model_path)\n",
    "    interpreter.allocate_tensors()\n",
    "\n",
    "    # Get input and output tensors.\n",
    "    input_details = interpreter.get_input_details()\n",
    "    output_details = interpreter.get_output_details()\n",
    "\n",
    "    # Test the model on random input data.\n",
    "    input_shape = input_details[0]['shape']\n",
    "    input_data = image_array\n",
    "    interpreter.set_tensor(input_details[0]['index'], input_data)\n",
    "\n",
    "    interpreter.invoke()\n",
    "\n",
    "    # The function `get_tensor()` returns a copy of the tensor data.\n",
    "    # Use `tensor()` in order to get a pointer to the tensor.\n",
    "    output_data = interpreter.get_tensor(output_details[0]['index'])\n",
    "\n",
    "    return output_data\n",
    "\n",
    "\n",
    "def show_image(image_id, image_path):\n",
    "    image_id_dict = dict(image_id).values()\n",
    "    image_id_string = list(image_id_dict)[0]\n",
    "    img = mpimg.imread(image_path + image_id_string)\n",
    "    plt.imshow(img, interpolation='nearest', aspect='auto')\n",
    "    plt.show()\n"
   ]
  },
  {
   "cell_type": "code",
   "execution_count": 3,
   "metadata": {},
   "outputs": [],
   "source": [
    "\n",
    "from sklearn.metrics import accuracy_score, roc_auc_score\n",
    "import pandas as pd\n",
    "import numpy as np\n",
    "import pickle\n"
   ]
  },
  {
   "cell_type": "code",
   "execution_count": 4,
   "metadata": {},
   "outputs": [],
   "source": [
    "data_dir = r'E:\\datasets\\MADE\\3_graduation\\parthplc\\archive\\data\\\\'\n",
    "\n",
    "train_path = data_dir + 'train.jsonl'\n",
    "dev_path = data_dir + 'dev.jsonl'\n",
    "\n",
    "\n",
    "train_data = pd.read_json(train_path, lines=True)\n",
    "test_data = pd.read_json(dev_path, lines=True)"
   ]
  },
  {
   "cell_type": "code",
   "execution_count": 5,
   "metadata": {},
   "outputs": [
    {
     "data": {
      "text/html": [
       "<div>\n",
       "<style scoped>\n",
       "    .dataframe tbody tr th:only-of-type {\n",
       "        vertical-align: middle;\n",
       "    }\n",
       "\n",
       "    .dataframe tbody tr th {\n",
       "        vertical-align: top;\n",
       "    }\n",
       "\n",
       "    .dataframe thead th {\n",
       "        text-align: right;\n",
       "    }\n",
       "</style>\n",
       "<table border=\"1\" class=\"dataframe\">\n",
       "  <thead>\n",
       "    <tr style=\"text-align: right;\">\n",
       "      <th></th>\n",
       "      <th>id</th>\n",
       "      <th>img</th>\n",
       "      <th>label</th>\n",
       "      <th>text</th>\n",
       "    </tr>\n",
       "  </thead>\n",
       "  <tbody>\n",
       "    <tr>\n",
       "      <th>0</th>\n",
       "      <td>8291</td>\n",
       "      <td>img/08291.png</td>\n",
       "      <td>1</td>\n",
       "      <td>white people is this a shooting range</td>\n",
       "    </tr>\n",
       "    <tr>\n",
       "      <th>1</th>\n",
       "      <td>46971</td>\n",
       "      <td>img/46971.png</td>\n",
       "      <td>1</td>\n",
       "      <td>bravery at its finest</td>\n",
       "    </tr>\n",
       "    <tr>\n",
       "      <th>2</th>\n",
       "      <td>3745</td>\n",
       "      <td>img/03745.png</td>\n",
       "      <td>1</td>\n",
       "      <td>your order comes to $37.50 and your white priv...</td>\n",
       "    </tr>\n",
       "  </tbody>\n",
       "</table>\n",
       "</div>"
      ],
      "text/plain": [
       "      id            img  label  \\\n",
       "0   8291  img/08291.png      1   \n",
       "1  46971  img/46971.png      1   \n",
       "2   3745  img/03745.png      1   \n",
       "\n",
       "                                                text  \n",
       "0              white people is this a shooting range  \n",
       "1                              bravery at its finest  \n",
       "2  your order comes to $37.50 and your white priv...  "
      ]
     },
     "execution_count": 5,
     "metadata": {},
     "output_type": "execute_result"
    }
   ],
   "source": [
    "test_data.head(3)"
   ]
  },
  {
   "cell_type": "code",
   "execution_count": 6,
   "metadata": {},
   "outputs": [
    {
     "name": "stderr",
     "output_type": "stream",
     "text": [
      "C:\\ProgramData\\Anaconda3\\envs\\torchvision\\lib\\site-packages\\sklearn\\base.py:329: UserWarning: Trying to unpickle estimator LabelEncoder from version 1.0.1 when using version 1.1.1. This might lead to breaking code or invalid results. Use at your own risk. For more info please refer to:\n",
      "https://scikit-learn.org/stable/model_persistence.html#security-maintainability-limitations\n",
      "  warnings.warn(\n",
      "C:\\Temp\\ipykernel_1388\\3537662425.py:7: DeprecationWarning: Please use `csr_matrix` from the `scipy.sparse` namespace, the `scipy.sparse.csr` namespace is deprecated.\n",
      "  tfidf_vectorizer = pickle.load(open(vectorizer, 'rb'))\n",
      "C:\\ProgramData\\Anaconda3\\envs\\torchvision\\lib\\site-packages\\sklearn\\base.py:329: UserWarning: Trying to unpickle estimator TfidfTransformer from version 1.0.1 when using version 1.1.1. This might lead to breaking code or invalid results. Use at your own risk. For more info please refer to:\n",
      "https://scikit-learn.org/stable/model_persistence.html#security-maintainability-limitations\n",
      "  warnings.warn(\n",
      "C:\\ProgramData\\Anaconda3\\envs\\torchvision\\lib\\site-packages\\sklearn\\base.py:329: UserWarning: Trying to unpickle estimator TfidfVectorizer from version 1.0.1 when using version 1.1.1. This might lead to breaking code or invalid results. Use at your own risk. For more info please refer to:\n",
      "https://scikit-learn.org/stable/model_persistence.html#security-maintainability-limitations\n",
      "  warnings.warn(\n"
     ]
    }
   ],
   "source": [
    "TFLITE_FILE_PATH = 'image_model.tflite'\n",
    "\n",
    "# TFIDF Model\n",
    "model = 'tfidf_model.pickle'\n",
    "vectorizer = 'tfidf_vectorizer.pickle'\n",
    "tfidf_model = pickle.load(open(model, 'rb'))\n",
    "tfidf_vectorizer = pickle.load(open(vectorizer, 'rb'))"
   ]
  },
  {
   "cell_type": "code",
   "execution_count": null,
   "metadata": {},
   "outputs": [],
   "source": []
  },
  {
   "cell_type": "code",
   "execution_count": 7,
   "metadata": {},
   "outputs": [
    {
     "name": "stdout",
     "output_type": "stream",
     "text": [
      "[8291 'img/08291.png' 1 'white people is this a shooting range']\n"
     ]
    }
   ],
   "source": [
    "for row in test_data.values:\n",
    "    print(row)\n",
    "    break"
   ]
  },
  {
   "cell_type": "code",
   "execution_count": 8,
   "metadata": {},
   "outputs": [],
   "source": [
    "predict = []\n",
    "y_true = []\n",
    "\n",
    "for row in test_data.values:\n",
    "    label = row[2]\n",
    "    image_id = row[1]\n",
    "    text = [row[3]]\n",
    "\n",
    "    image_array = get_image_arrays(image_id, data_dir)\n",
    "    image_prediction = get_image_predictions(image_array, TFLITE_FILE_PATH)\n",
    "    y_pred_image = np.argmax(image_prediction, axis=1)\n",
    "    #print('Image Prediction Probabilities:')\n",
    "    #print(image_prediction)\n",
    "\n",
    "\n",
    "    transformed_text = tfidf_vectorizer.transform(text)\n",
    "    text_prediction = tfidf_model.predict_proba(transformed_text)\n",
    "    y_pred_text = np.argmax(text_prediction, axis=1)\n",
    "    #print('Text Prediction Probabilities:')\n",
    "    #print(text_prediction)\n",
    "\n",
    "\n",
    "    # Ensemble Probabilities\n",
    "    ensemble_prediction = np.mean(np.array([image_prediction, text_prediction]), axis=0)\n",
    "    y_pred_ensemble = np.argmax(ensemble_prediction, axis=1)\n",
    "    #print(ensemble_prediction)\n",
    "\n",
    "\n",
    "    predicted_label = y_pred_ensemble[0]\n",
    "    y_true.append(label)\n",
    "    predict.append({\"label\":predicted_label, \"proba\":np.max(ensemble_prediction, axis=1)[0]})\n",
    "    #print(predict[-1])\n",
    "    #break"
   ]
  },
  {
   "cell_type": "code",
   "execution_count": 9,
   "metadata": {},
   "outputs": [
    {
     "data": {
      "text/plain": [
       "[1, 0, 0]"
      ]
     },
     "execution_count": 9,
     "metadata": {},
     "output_type": "execute_result"
    }
   ],
   "source": [
    "[p[\"label\"] for p in predict][:3]"
   ]
  },
  {
   "cell_type": "code",
   "execution_count": 10,
   "metadata": {},
   "outputs": [
    {
     "data": {
      "text/plain": [
       "[0.5320135628288469, 0.7226082252364714, 0.5670788375148931]"
      ]
     },
     "execution_count": 10,
     "metadata": {},
     "output_type": "execute_result"
    }
   ],
   "source": [
    "[p[\"proba\"] for p in predict][:3]"
   ]
  },
  {
   "cell_type": "code",
   "execution_count": 11,
   "metadata": {},
   "outputs": [
    {
     "data": {
      "text/plain": [
       "(0.53, 0.44279999999999997)"
      ]
     },
     "execution_count": 11,
     "metadata": {},
     "output_type": "execute_result"
    }
   ],
   "source": [
    "acc_score = accuracy_score(y_true, [p[\"label\"] for p in predict])\n",
    "auc_score = roc_auc_score(y_true, [p[\"proba\"] for p in predict])\n",
    "acc_score, auc_score"
   ]
  },
  {
   "cell_type": "code",
   "execution_count": null,
   "metadata": {},
   "outputs": [],
   "source": []
  },
  {
   "cell_type": "code",
   "execution_count": 12,
   "metadata": {},
   "outputs": [
    {
     "data": {
      "text/plain": [
       "(0.7185882352941176, 0.2579691983756956)"
      ]
     },
     "execution_count": 12,
     "metadata": {},
     "output_type": "execute_result"
    }
   ],
   "source": [
    "predict = []\n",
    "y_true = []\n",
    "\n",
    "for row in train_data.values:\n",
    "    label = row[2]\n",
    "    image_id = row[1]\n",
    "    text = [row[3]]\n",
    "\n",
    "    image_array = get_image_arrays(image_id, data_dir)\n",
    "    image_prediction = get_image_predictions(image_array, TFLITE_FILE_PATH)\n",
    "    y_pred_image = np.argmax(image_prediction, axis=1)\n",
    "    #print('Image Prediction Probabilities:')\n",
    "    #print(image_prediction)\n",
    "\n",
    "\n",
    "    transformed_text = tfidf_vectorizer.transform(text)\n",
    "    text_prediction = tfidf_model.predict_proba(transformed_text)\n",
    "    y_pred_text = np.argmax(text_prediction, axis=1)\n",
    "    #print('Text Prediction Probabilities:')\n",
    "    #print(text_prediction)\n",
    "\n",
    "\n",
    "    # Ensemble Probabilities\n",
    "    ensemble_prediction = np.mean(np.array([image_prediction, text_prediction]), axis=0)\n",
    "    y_pred_ensemble = np.argmax(ensemble_prediction, axis=1)\n",
    "    #print(ensemble_prediction)\n",
    "\n",
    "\n",
    "    predicted_label = y_pred_ensemble[0]\n",
    "    y_true.append(label)\n",
    "    predict.append({\"label\":predicted_label, \"proba\":np.max(ensemble_prediction, axis=1)[0]})\n",
    "    #print(predict[-1])\n",
    "    #break\n",
    "    \n",
    "acc_score = accuracy_score(y_true, [p[\"label\"] for p in predict])\n",
    "auc_score = roc_auc_score(y_true, [p[\"proba\"] for p in predict])\n",
    "acc_score, auc_score"
   ]
  },
  {
   "cell_type": "code",
   "execution_count": null,
   "metadata": {},
   "outputs": [],
   "source": []
  },
  {
   "cell_type": "code",
   "execution_count": null,
   "metadata": {},
   "outputs": [],
   "source": []
  },
  {
   "cell_type": "code",
   "execution_count": null,
   "metadata": {},
   "outputs": [],
   "source": []
  },
  {
   "cell_type": "code",
   "execution_count": 13,
   "metadata": {},
   "outputs": [
    {
     "name": "stdout",
     "output_type": "stream",
     "text": [
      "['48539.png'\n",
      " \"the woman you met who admits she's wrong, apologizes and changes her ways\"\n",
      " 0]\n"
     ]
    }
   ],
   "source": [
    "demo_data = pd.read_csv('demo_data.csv')\n",
    "\n",
    "predict = []\n",
    "y_true = []\n",
    "\n",
    "for row in demo_data.values:\n",
    "    print(row)\n",
    "    break\n",
    "    \n",
    "    "
   ]
  },
  {
   "cell_type": "code",
   "execution_count": 14,
   "metadata": {},
   "outputs": [
    {
     "data": {
      "text/plain": [
       "(0.64, 0.3549999999999999)"
      ]
     },
     "execution_count": 14,
     "metadata": {},
     "output_type": "execute_result"
    }
   ],
   "source": [
    "demo_data = pd.read_csv('demo_data.csv')\n",
    "\n",
    "predict = []\n",
    "y_true = []\n",
    "\n",
    "for row in demo_data.values:\n",
    "    label = row[2]\n",
    "    image_id = 'img/' + row[0]\n",
    "    text = [row[1]]\n",
    "\n",
    "    image_array = get_image_arrays(image_id, data_dir)\n",
    "    image_prediction = get_image_predictions(image_array, TFLITE_FILE_PATH)\n",
    "    y_pred_image = np.argmax(image_prediction, axis=1)\n",
    "    #print('Image Prediction Probabilities:')\n",
    "    #print(image_prediction)\n",
    "\n",
    "\n",
    "    transformed_text = tfidf_vectorizer.transform(text)\n",
    "    text_prediction = tfidf_model.predict_proba(transformed_text)\n",
    "    y_pred_text = np.argmax(text_prediction, axis=1)\n",
    "    #print('Text Prediction Probabilities:')\n",
    "    #print(text_prediction)\n",
    "\n",
    "\n",
    "    # Ensemble Probabilities\n",
    "    ensemble_prediction = np.mean(np.array([image_prediction, text_prediction]), axis=0)\n",
    "    y_pred_ensemble = np.argmax(ensemble_prediction, axis=1)\n",
    "    #print(ensemble_prediction)\n",
    "\n",
    "\n",
    "    predicted_label = y_pred_ensemble[0]\n",
    "    y_true.append(label)\n",
    "    predict.append({\"label\":predicted_label, \"proba\":np.max(ensemble_prediction, axis=1)[0]})\n",
    "    #print(predict[-1])\n",
    "    #break\n",
    "    \n",
    "acc_score = accuracy_score(y_true, [p[\"label\"] for p in predict])\n",
    "auc_score = roc_auc_score(y_true, [p[\"proba\"] for p in predict])\n",
    "acc_score, auc_score"
   ]
  }
 ],
 "metadata": {
  "accelerator": "GPU",
  "colab": {
   "collapsed_sections": [],
   "provenance": [],
   "toc_visible": true
  },
  "kernelspec": {
   "display_name": "Python 3 (ipykernel)",
   "language": "python",
   "name": "python3"
  },
  "language_info": {
   "codemirror_mode": {
    "name": "ipython",
    "version": 3
   },
   "file_extension": ".py",
   "mimetype": "text/x-python",
   "name": "python",
   "nbconvert_exporter": "python",
   "pygments_lexer": "ipython3",
   "version": "3.10.4"
  }
 },
 "nbformat": 4,
 "nbformat_minor": 1
}
