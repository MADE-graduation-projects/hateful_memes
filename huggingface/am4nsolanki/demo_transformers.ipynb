{
 "cells": [
  {
   "cell_type": "code",
   "execution_count": 2,
   "metadata": {},
   "outputs": [
    {
     "data": {
      "text/plain": [
       "SequenceClassifierOutput(loss=None, logits=tensor([[ 0.7368, -0.6252]], grad_fn=<AddmmBackward0>), hidden_states=None, attentions=None)"
      ]
     },
     "execution_count": 2,
     "metadata": {},
     "output_type": "execute_result"
    }
   ],
   "source": [
    "from transformers import AutoModelForSequenceClassification, AutoTokenizer\n",
    "\n",
    "model = AutoModelForSequenceClassification.from_pretrained(\"am4nsolanki/autonlp-text-hateful-memes-36789092\")\n",
    "\n",
    "tokenizer = AutoTokenizer.from_pretrained(\"am4nsolanki/autonlp-text-hateful-memes-36789092\")\n",
    "\n",
    "inputs = tokenizer(\"I love AutoNLP\", return_tensors=\"pt\")\n",
    "\n",
    "outputs = model(**inputs)\n",
    "outputs"
   ]
  },
  {
   "cell_type": "code",
   "execution_count": 3,
   "metadata": {},
   "outputs": [
    {
     "data": {
      "text/plain": [
       "tensor([[ 0.7368, -0.6252]], grad_fn=<AddmmBackward0>)"
      ]
     },
     "execution_count": 3,
     "metadata": {},
     "output_type": "execute_result"
    }
   ],
   "source": [
    "outputs.logits"
   ]
  },
  {
   "cell_type": "code",
   "execution_count": 12,
   "metadata": {},
   "outputs": [],
   "source": [
    "import pandas as pd\n",
    "import numpy as np\n",
    "\n",
    "from sklearn.metrics import accuracy_score, roc_auc_score"
   ]
  },
  {
   "cell_type": "code",
   "execution_count": 5,
   "metadata": {},
   "outputs": [],
   "source": [
    "data_dir = r'E:\\datasets\\MADE\\3_graduation\\parthplc\\archive\\data\\\\'\n",
    "\n",
    "train_path = data_dir + 'train.jsonl'\n",
    "dev_path = data_dir + 'dev.jsonl'\n",
    "\n",
    "\n",
    "train_data = pd.read_json(train_path, lines=True)\n",
    "test_data = pd.read_json(dev_path, lines=True)"
   ]
  },
  {
   "cell_type": "code",
   "execution_count": 6,
   "metadata": {},
   "outputs": [
    {
     "name": "stdout",
     "output_type": "stream",
     "text": [
      "[8291 'img/08291.png' 1 'white people is this a shooting range']\n"
     ]
    }
   ],
   "source": [
    "for row in test_data.values:\n",
    "    print(row)\n",
    "    break"
   ]
  },
  {
   "cell_type": "code",
   "execution_count": 14,
   "metadata": {},
   "outputs": [
    {
     "data": {
      "text/plain": [
       "(0.566, 0.41833600000000004)"
      ]
     },
     "execution_count": 14,
     "metadata": {},
     "output_type": "execute_result"
    }
   ],
   "source": [
    "predict = []\n",
    "y_true = []\n",
    "\n",
    "for row in test_data.values:\n",
    "    label = row[2]\n",
    "    text = row[3]\n",
    "\n",
    "    inputs = tokenizer(text, return_tensors=\"pt\")\n",
    "\n",
    "    outputs = model(**inputs)\n",
    "    logits = outputs.logits.detach().numpy()\n",
    "\n",
    "    #print(logits)\n",
    "\n",
    "    y_true.append(label)\n",
    "    predict.append({\"label\":np.argmax(logits, axis=1)[0], \"proba\":np.max(logits, axis=1)[0]})\n",
    "    #print(predict[-1])\n",
    "    #break\n",
    "    \n",
    "acc_score = accuracy_score(y_true, [p[\"label\"] for p in predict])\n",
    "auc_score = roc_auc_score(y_true, [p[\"proba\"] for p in predict])\n",
    "acc_score, auc_score"
   ]
  }
 ],
 "metadata": {
  "accelerator": "GPU",
  "colab": {
   "collapsed_sections": [],
   "provenance": [],
   "toc_visible": true
  },
  "kernelspec": {
   "display_name": "Python 3 (ipykernel)",
   "language": "python",
   "name": "python3"
  },
  "language_info": {
   "codemirror_mode": {
    "name": "ipython",
    "version": 3
   },
   "file_extension": ".py",
   "mimetype": "text/x-python",
   "name": "python",
   "nbconvert_exporter": "python",
   "pygments_lexer": "ipython3",
   "version": "3.10.4"
  }
 },
 "nbformat": 4,
 "nbformat_minor": 1
}
